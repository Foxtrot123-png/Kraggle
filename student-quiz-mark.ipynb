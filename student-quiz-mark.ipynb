{
 "cells": [
  {
   "cell_type": "code",
   "execution_count": 1,
   "id": "ef48c777",
   "metadata": {
    "_cell_guid": "b1076dfc-b9ad-4769-8c92-a6c4dae69d19",
    "_uuid": "8f2839f25d086af736a60e9eeb907d3b93b6e0e5",
    "execution": {
     "iopub.execute_input": "2025-07-25T09:20:10.773523Z",
     "iopub.status.busy": "2025-07-25T09:20:10.772930Z",
     "iopub.status.idle": "2025-07-25T09:20:13.234311Z",
     "shell.execute_reply": "2025-07-25T09:20:13.233085Z"
    },
    "papermill": {
     "duration": 2.470756,
     "end_time": "2025-07-25T09:20:13.236407",
     "exception": false,
     "start_time": "2025-07-25T09:20:10.765651",
     "status": "completed"
    },
    "tags": []
   },
   "outputs": [
    {
     "name": "stdout",
     "output_type": "stream",
     "text": [
      "/kaggle/input/student-quiz-marks-dataset/marks_final.csv\n"
     ]
    }
   ],
   "source": [
    "# This Python 3 environment comes with many helpful analytics libraries installed\n",
    "# It is defined by the kaggle/python Docker image: https://github.com/kaggle/docker-python\n",
    "# For example, here's several helpful packages to load\n",
    "\n",
    "import numpy as np # linear algebra\n",
    "import pandas as pd # data processing, CSV file I/O (e.g. pd.read_csv)\n",
    "\n",
    "# Input data files are available in the read-only \"../input/\" directory\n",
    "# For example, running this (by clicking run or pressing Shift+Enter) will list all files under the input directory\n",
    "\n",
    "import os\n",
    "for dirname, _, filenames in os.walk('/kaggle/input'):\n",
    "    for filename in filenames:\n",
    "        print(os.path.join(dirname, filename))\n",
    "\n",
    "# You can write up to 20GB to the current directory (/kaggle/working/) that gets preserved as output when you create a version using \"Save & Run All\" \n",
    "# You can also write temporary files to /kaggle/temp/, but they won't be saved outside of the current session"
   ]
  },
  {
   "cell_type": "code",
   "execution_count": 2,
   "id": "11c8d3dc",
   "metadata": {
    "execution": {
     "iopub.execute_input": "2025-07-25T09:20:13.248861Z",
     "iopub.status.busy": "2025-07-25T09:20:13.248343Z",
     "iopub.status.idle": "2025-07-25T09:20:14.003250Z",
     "shell.execute_reply": "2025-07-25T09:20:14.001847Z"
    },
    "papermill": {
     "duration": 0.763052,
     "end_time": "2025-07-25T09:20:14.005058",
     "exception": false,
     "start_time": "2025-07-25T09:20:13.242006",
     "status": "completed"
    },
    "tags": []
   },
   "outputs": [
    {
     "name": "stdout",
     "output_type": "stream",
     "text": [
      "Path to dataset files: /kaggle/input/student-quiz-marks-dataset\n"
     ]
    }
   ],
   "source": [
    "import kagglehub\n",
    "\n",
    "# Download latest version\n",
    "path = kagglehub.dataset_download(\"pratsharma7/student-quiz-marks-dataset\")\n",
    "\n",
    "print(\"Path to dataset files:\", path)"
   ]
  },
  {
   "cell_type": "code",
   "execution_count": 3,
   "id": "2503ed25",
   "metadata": {
    "execution": {
     "iopub.execute_input": "2025-07-25T09:20:14.017750Z",
     "iopub.status.busy": "2025-07-25T09:20:14.017383Z",
     "iopub.status.idle": "2025-07-25T09:20:14.023143Z",
     "shell.execute_reply": "2025-07-25T09:20:14.021792Z"
    },
    "papermill": {
     "duration": 0.015106,
     "end_time": "2025-07-25T09:20:14.025204",
     "exception": false,
     "start_time": "2025-07-25T09:20:14.010098",
     "status": "completed"
    },
    "tags": []
   },
   "outputs": [],
   "source": [
    "import pandas as pd\n",
    "import numpy as np\n"
   ]
  },
  {
   "cell_type": "code",
   "execution_count": 4,
   "id": "422b881c",
   "metadata": {
    "execution": {
     "iopub.execute_input": "2025-07-25T09:20:14.037334Z",
     "iopub.status.busy": "2025-07-25T09:20:14.036923Z",
     "iopub.status.idle": "2025-07-25T09:20:14.065274Z",
     "shell.execute_reply": "2025-07-25T09:20:14.063991Z"
    },
    "papermill": {
     "duration": 0.036892,
     "end_time": "2025-07-25T09:20:14.067389",
     "exception": false,
     "start_time": "2025-07-25T09:20:14.030497",
     "status": "completed"
    },
    "tags": []
   },
   "outputs": [],
   "source": [
    "df = pd.read_csv('/kaggle/input/student-quiz-marks-dataset/marks_final.csv')"
   ]
  },
  {
   "cell_type": "code",
   "execution_count": 5,
   "id": "048b3727",
   "metadata": {
    "execution": {
     "iopub.execute_input": "2025-07-25T09:20:14.079160Z",
     "iopub.status.busy": "2025-07-25T09:20:14.078728Z",
     "iopub.status.idle": "2025-07-25T09:20:14.119050Z",
     "shell.execute_reply": "2025-07-25T09:20:14.116888Z"
    },
    "papermill": {
     "duration": 0.048761,
     "end_time": "2025-07-25T09:20:14.121187",
     "exception": false,
     "start_time": "2025-07-25T09:20:14.072426",
     "status": "completed"
    },
    "tags": []
   },
   "outputs": [
    {
     "data": {
      "text/html": [
       "<div>\n",
       "<style scoped>\n",
       "    .dataframe tbody tr th:only-of-type {\n",
       "        vertical-align: middle;\n",
       "    }\n",
       "\n",
       "    .dataframe tbody tr th {\n",
       "        vertical-align: top;\n",
       "    }\n",
       "\n",
       "    .dataframe thead th {\n",
       "        text-align: right;\n",
       "    }\n",
       "</style>\n",
       "<table border=\"1\" class=\"dataframe\">\n",
       "  <thead>\n",
       "    <tr style=\"text-align: right;\">\n",
       "      <th></th>\n",
       "      <th>SNO.</th>\n",
       "      <th>ROLL NUMBER</th>\n",
       "      <th>Q1 (5)</th>\n",
       "      <th>Q2 (5)</th>\n",
       "      <th>Q3 (5)</th>\n",
       "      <th>Q4 (5)</th>\n",
       "      <th>Q5 (5)</th>\n",
       "      <th>Q6 (5)</th>\n",
       "      <th>Q7 (5)</th>\n",
       "      <th>Q8 (5)</th>\n",
       "      <th>Q9 (5)</th>\n",
       "      <th>Q10 (5)</th>\n",
       "      <th>Q11 (5)</th>\n",
       "      <th>Q12 (5)</th>\n",
       "      <th>Top 9 (out of 45)</th>\n",
       "      <th>Out of 30</th>\n",
       "    </tr>\n",
       "  </thead>\n",
       "  <tbody>\n",
       "    <tr>\n",
       "      <th>0</th>\n",
       "      <td>1</td>\n",
       "      <td>102003733</td>\n",
       "      <td>AB</td>\n",
       "      <td>AB</td>\n",
       "      <td>AB</td>\n",
       "      <td>AB</td>\n",
       "      <td>AB</td>\n",
       "      <td>AB</td>\n",
       "      <td>3</td>\n",
       "      <td>5</td>\n",
       "      <td>AB</td>\n",
       "      <td>AB</td>\n",
       "      <td>AB</td>\n",
       "      <td>4</td>\n",
       "      <td>12</td>\n",
       "      <td>8.0</td>\n",
       "    </tr>\n",
       "    <tr>\n",
       "      <th>1</th>\n",
       "      <td>2</td>\n",
       "      <td>102203002</td>\n",
       "      <td>5</td>\n",
       "      <td>AB</td>\n",
       "      <td>4</td>\n",
       "      <td>4</td>\n",
       "      <td>4</td>\n",
       "      <td>4</td>\n",
       "      <td>4</td>\n",
       "      <td>3</td>\n",
       "      <td>5</td>\n",
       "      <td>5</td>\n",
       "      <td>5</td>\n",
       "      <td>3</td>\n",
       "      <td>40</td>\n",
       "      <td>26.7</td>\n",
       "    </tr>\n",
       "    <tr>\n",
       "      <th>2</th>\n",
       "      <td>3</td>\n",
       "      <td>102203003</td>\n",
       "      <td>5</td>\n",
       "      <td>4</td>\n",
       "      <td>4</td>\n",
       "      <td>4</td>\n",
       "      <td>4</td>\n",
       "      <td>5</td>\n",
       "      <td>4</td>\n",
       "      <td>3</td>\n",
       "      <td>4</td>\n",
       "      <td>5</td>\n",
       "      <td>4</td>\n",
       "      <td>2</td>\n",
       "      <td>39</td>\n",
       "      <td>26.0</td>\n",
       "    </tr>\n",
       "    <tr>\n",
       "      <th>3</th>\n",
       "      <td>4</td>\n",
       "      <td>102203005</td>\n",
       "      <td>AB</td>\n",
       "      <td>AB</td>\n",
       "      <td>AB</td>\n",
       "      <td>AB</td>\n",
       "      <td>3</td>\n",
       "      <td>5</td>\n",
       "      <td>3</td>\n",
       "      <td>4</td>\n",
       "      <td>4</td>\n",
       "      <td>5</td>\n",
       "      <td>5</td>\n",
       "      <td>AB</td>\n",
       "      <td>29</td>\n",
       "      <td>19.3</td>\n",
       "    </tr>\n",
       "    <tr>\n",
       "      <th>4</th>\n",
       "      <td>5</td>\n",
       "      <td>102203007</td>\n",
       "      <td>AB</td>\n",
       "      <td>AB</td>\n",
       "      <td>AB</td>\n",
       "      <td>5</td>\n",
       "      <td>4</td>\n",
       "      <td>3</td>\n",
       "      <td>3</td>\n",
       "      <td>5</td>\n",
       "      <td>3</td>\n",
       "      <td>5</td>\n",
       "      <td>5</td>\n",
       "      <td>3</td>\n",
       "      <td>36</td>\n",
       "      <td>24.0</td>\n",
       "    </tr>\n",
       "  </tbody>\n",
       "</table>\n",
       "</div>"
      ],
      "text/plain": [
       "   SNO.  ROLL NUMBER Q1 (5) Q2 (5) Q3 (5) Q4 (5) Q5 (5) Q6 (5) Q7 (5) Q8 (5)  \\\n",
       "0     1    102003733     AB     AB     AB     AB     AB     AB      3      5   \n",
       "1     2    102203002      5     AB      4      4      4      4      4      3   \n",
       "2     3    102203003      5      4      4      4      4      5      4      3   \n",
       "3     4    102203005     AB     AB     AB     AB      3      5      3      4   \n",
       "4     5    102203007     AB     AB     AB      5      4      3      3      5   \n",
       "\n",
       "  Q9 (5) Q10 (5) Q11 (5) Q12 (5)  Top 9 (out of 45)  Out of 30  \n",
       "0     AB      AB      AB       4                 12        8.0  \n",
       "1      5       5       5       3                 40       26.7  \n",
       "2      4       5       4       2                 39       26.0  \n",
       "3      4       5       5      AB                 29       19.3  \n",
       "4      3       5       5       3                 36       24.0  "
      ]
     },
     "execution_count": 5,
     "metadata": {},
     "output_type": "execute_result"
    }
   ],
   "source": [
    "df.head()"
   ]
  },
  {
   "cell_type": "code",
   "execution_count": 6,
   "id": "d01c34cc",
   "metadata": {
    "execution": {
     "iopub.execute_input": "2025-07-25T09:20:14.133241Z",
     "iopub.status.busy": "2025-07-25T09:20:14.132857Z",
     "iopub.status.idle": "2025-07-25T09:20:14.147601Z",
     "shell.execute_reply": "2025-07-25T09:20:14.146279Z"
    },
    "papermill": {
     "duration": 0.023432,
     "end_time": "2025-07-25T09:20:14.149915",
     "exception": false,
     "start_time": "2025-07-25T09:20:14.126483",
     "status": "completed"
    },
    "tags": []
   },
   "outputs": [
    {
     "data": {
      "text/plain": [
       "array(['AB', '5', '3', '4', '2', '0', 'O AB', '1'], dtype=object)"
      ]
     },
     "execution_count": 6,
     "metadata": {},
     "output_type": "execute_result"
    }
   ],
   "source": [
    "df['Q1 (5)'].unique()"
   ]
  },
  {
   "cell_type": "code",
   "execution_count": 7,
   "id": "ac9bec18",
   "metadata": {
    "execution": {
     "iopub.execute_input": "2025-07-25T09:20:14.162856Z",
     "iopub.status.busy": "2025-07-25T09:20:14.162464Z",
     "iopub.status.idle": "2025-07-25T09:20:14.196289Z",
     "shell.execute_reply": "2025-07-25T09:20:14.195028Z"
    },
    "papermill": {
     "duration": 0.043086,
     "end_time": "2025-07-25T09:20:14.198341",
     "exception": false,
     "start_time": "2025-07-25T09:20:14.155255",
     "status": "completed"
    },
    "tags": []
   },
   "outputs": [
    {
     "data": {
      "text/html": [
       "<div>\n",
       "<style scoped>\n",
       "    .dataframe tbody tr th:only-of-type {\n",
       "        vertical-align: middle;\n",
       "    }\n",
       "\n",
       "    .dataframe tbody tr th {\n",
       "        vertical-align: top;\n",
       "    }\n",
       "\n",
       "    .dataframe thead th {\n",
       "        text-align: right;\n",
       "    }\n",
       "</style>\n",
       "<table border=\"1\" class=\"dataframe\">\n",
       "  <thead>\n",
       "    <tr style=\"text-align: right;\">\n",
       "      <th></th>\n",
       "      <th>SNO.</th>\n",
       "      <th>ROLL NUMBER</th>\n",
       "      <th>Top 9 (out of 45)</th>\n",
       "      <th>Out of 30</th>\n",
       "    </tr>\n",
       "  </thead>\n",
       "  <tbody>\n",
       "    <tr>\n",
       "      <th>count</th>\n",
       "      <td>1053.00000</td>\n",
       "      <td>1.053000e+03</td>\n",
       "      <td>1053.000000</td>\n",
       "      <td>1053.000000</td>\n",
       "    </tr>\n",
       "    <tr>\n",
       "      <th>mean</th>\n",
       "      <td>527.00000</td>\n",
       "      <td>1.027862e+08</td>\n",
       "      <td>38.144349</td>\n",
       "      <td>25.430104</td>\n",
       "    </tr>\n",
       "    <tr>\n",
       "      <th>std</th>\n",
       "      <td>304.11922</td>\n",
       "      <td>1.848957e+07</td>\n",
       "      <td>7.150877</td>\n",
       "      <td>4.766492</td>\n",
       "    </tr>\n",
       "    <tr>\n",
       "      <th>min</th>\n",
       "      <td>1.00000</td>\n",
       "      <td>1.020037e+08</td>\n",
       "      <td>0.000000</td>\n",
       "      <td>0.000000</td>\n",
       "    </tr>\n",
       "    <tr>\n",
       "      <th>25%</th>\n",
       "      <td>264.00000</td>\n",
       "      <td>1.022033e+08</td>\n",
       "      <td>37.000000</td>\n",
       "      <td>24.700000</td>\n",
       "    </tr>\n",
       "    <tr>\n",
       "      <th>50%</th>\n",
       "      <td>527.00000</td>\n",
       "      <td>1.022035e+08</td>\n",
       "      <td>40.000000</td>\n",
       "      <td>26.700000</td>\n",
       "    </tr>\n",
       "    <tr>\n",
       "      <th>75%</th>\n",
       "      <td>790.00000</td>\n",
       "      <td>1.022038e+08</td>\n",
       "      <td>42.000000</td>\n",
       "      <td>28.000000</td>\n",
       "    </tr>\n",
       "    <tr>\n",
       "      <th>max</th>\n",
       "      <td>1053.00000</td>\n",
       "      <td>7.022000e+08</td>\n",
       "      <td>45.000000</td>\n",
       "      <td>30.000000</td>\n",
       "    </tr>\n",
       "  </tbody>\n",
       "</table>\n",
       "</div>"
      ],
      "text/plain": [
       "             SNO.   ROLL NUMBER  Top 9 (out of 45)    Out of 30\n",
       "count  1053.00000  1.053000e+03        1053.000000  1053.000000\n",
       "mean    527.00000  1.027862e+08          38.144349    25.430104\n",
       "std     304.11922  1.848957e+07           7.150877     4.766492\n",
       "min       1.00000  1.020037e+08           0.000000     0.000000\n",
       "25%     264.00000  1.022033e+08          37.000000    24.700000\n",
       "50%     527.00000  1.022035e+08          40.000000    26.700000\n",
       "75%     790.00000  1.022038e+08          42.000000    28.000000\n",
       "max    1053.00000  7.022000e+08          45.000000    30.000000"
      ]
     },
     "execution_count": 7,
     "metadata": {},
     "output_type": "execute_result"
    }
   ],
   "source": [
    "df.describe()\n"
   ]
  },
  {
   "cell_type": "code",
   "execution_count": 8,
   "id": "2f3d91ac",
   "metadata": {
    "execution": {
     "iopub.execute_input": "2025-07-25T09:20:14.211457Z",
     "iopub.status.busy": "2025-07-25T09:20:14.211080Z",
     "iopub.status.idle": "2025-07-25T09:20:14.218537Z",
     "shell.execute_reply": "2025-07-25T09:20:14.217045Z"
    },
    "papermill": {
     "duration": 0.016486,
     "end_time": "2025-07-25T09:20:14.220768",
     "exception": false,
     "start_time": "2025-07-25T09:20:14.204282",
     "status": "completed"
    },
    "tags": []
   },
   "outputs": [
    {
     "data": {
      "text/plain": [
       "1053"
      ]
     },
     "execution_count": 8,
     "metadata": {},
     "output_type": "execute_result"
    }
   ],
   "source": [
    "df.shape[0]"
   ]
  },
  {
   "cell_type": "code",
   "execution_count": 9,
   "id": "9aed1168",
   "metadata": {
    "execution": {
     "iopub.execute_input": "2025-07-25T09:20:14.235482Z",
     "iopub.status.busy": "2025-07-25T09:20:14.235094Z",
     "iopub.status.idle": "2025-07-25T09:20:14.245537Z",
     "shell.execute_reply": "2025-07-25T09:20:14.244254Z"
    },
    "papermill": {
     "duration": 0.01984,
     "end_time": "2025-07-25T09:20:14.247712",
     "exception": false,
     "start_time": "2025-07-25T09:20:14.227872",
     "status": "completed"
    },
    "tags": []
   },
   "outputs": [
    {
     "data": {
      "text/plain": [
       "SNO.                 0\n",
       "ROLL NUMBER          0\n",
       "Q1 (5)               0\n",
       "Q2 (5)               0\n",
       "Q3 (5)               0\n",
       "Q4 (5)               0\n",
       "Q5 (5)               0\n",
       "Q6 (5)               0\n",
       "Q7 (5)               0\n",
       "Q8 (5)               0\n",
       "Q9 (5)               0\n",
       "Q10 (5)              0\n",
       "Q11 (5)              0\n",
       "Q12 (5)              0\n",
       "Top 9 (out of 45)    0\n",
       "Out of 30            0\n",
       "dtype: int64"
      ]
     },
     "execution_count": 9,
     "metadata": {},
     "output_type": "execute_result"
    }
   ],
   "source": [
    "df.isna().sum()"
   ]
  },
  {
   "cell_type": "code",
   "execution_count": 10,
   "id": "b749c280",
   "metadata": {
    "execution": {
     "iopub.execute_input": "2025-07-25T09:20:14.262162Z",
     "iopub.status.busy": "2025-07-25T09:20:14.260879Z",
     "iopub.status.idle": "2025-07-25T09:20:14.266423Z",
     "shell.execute_reply": "2025-07-25T09:20:14.265137Z"
    },
    "papermill": {
     "duration": 0.014686,
     "end_time": "2025-07-25T09:20:14.268381",
     "exception": false,
     "start_time": "2025-07-25T09:20:14.253695",
     "status": "completed"
    },
    "tags": []
   },
   "outputs": [],
   "source": [
    "import matplotlib.pyplot as plt"
   ]
  },
  {
   "cell_type": "code",
   "execution_count": 11,
   "id": "084df66e",
   "metadata": {
    "execution": {
     "iopub.execute_input": "2025-07-25T09:20:14.282001Z",
     "iopub.status.busy": "2025-07-25T09:20:14.281602Z",
     "iopub.status.idle": "2025-07-25T09:20:14.305148Z",
     "shell.execute_reply": "2025-07-25T09:20:14.304045Z"
    },
    "papermill": {
     "duration": 0.03282,
     "end_time": "2025-07-25T09:20:14.306974",
     "exception": false,
     "start_time": "2025-07-25T09:20:14.274154",
     "status": "completed"
    },
    "tags": []
   },
   "outputs": [
    {
     "data": {
      "text/html": [
       "<div>\n",
       "<style scoped>\n",
       "    .dataframe tbody tr th:only-of-type {\n",
       "        vertical-align: middle;\n",
       "    }\n",
       "\n",
       "    .dataframe tbody tr th {\n",
       "        vertical-align: top;\n",
       "    }\n",
       "\n",
       "    .dataframe thead th {\n",
       "        text-align: right;\n",
       "    }\n",
       "</style>\n",
       "<table border=\"1\" class=\"dataframe\">\n",
       "  <thead>\n",
       "    <tr style=\"text-align: right;\">\n",
       "      <th></th>\n",
       "      <th>Q1 (5)</th>\n",
       "      <th>Q2 (5)</th>\n",
       "      <th>Q3 (5)</th>\n",
       "      <th>Q4 (5)</th>\n",
       "      <th>Q5 (5)</th>\n",
       "      <th>Q6 (5)</th>\n",
       "      <th>Q7 (5)</th>\n",
       "      <th>Q8 (5)</th>\n",
       "      <th>Q9 (5)</th>\n",
       "      <th>Q10 (5)</th>\n",
       "      <th>Q11 (5)</th>\n",
       "      <th>Q12 (5)</th>\n",
       "    </tr>\n",
       "  </thead>\n",
       "  <tbody>\n",
       "    <tr>\n",
       "      <th>0</th>\n",
       "      <td>AB</td>\n",
       "      <td>AB</td>\n",
       "      <td>AB</td>\n",
       "      <td>AB</td>\n",
       "      <td>AB</td>\n",
       "      <td>AB</td>\n",
       "      <td>3</td>\n",
       "      <td>5</td>\n",
       "      <td>AB</td>\n",
       "      <td>AB</td>\n",
       "      <td>AB</td>\n",
       "      <td>4</td>\n",
       "    </tr>\n",
       "    <tr>\n",
       "      <th>1</th>\n",
       "      <td>5</td>\n",
       "      <td>AB</td>\n",
       "      <td>4</td>\n",
       "      <td>4</td>\n",
       "      <td>4</td>\n",
       "      <td>4</td>\n",
       "      <td>4</td>\n",
       "      <td>3</td>\n",
       "      <td>5</td>\n",
       "      <td>5</td>\n",
       "      <td>5</td>\n",
       "      <td>3</td>\n",
       "    </tr>\n",
       "    <tr>\n",
       "      <th>2</th>\n",
       "      <td>5</td>\n",
       "      <td>4</td>\n",
       "      <td>4</td>\n",
       "      <td>4</td>\n",
       "      <td>4</td>\n",
       "      <td>5</td>\n",
       "      <td>4</td>\n",
       "      <td>3</td>\n",
       "      <td>4</td>\n",
       "      <td>5</td>\n",
       "      <td>4</td>\n",
       "      <td>2</td>\n",
       "    </tr>\n",
       "    <tr>\n",
       "      <th>3</th>\n",
       "      <td>AB</td>\n",
       "      <td>AB</td>\n",
       "      <td>AB</td>\n",
       "      <td>AB</td>\n",
       "      <td>3</td>\n",
       "      <td>5</td>\n",
       "      <td>3</td>\n",
       "      <td>4</td>\n",
       "      <td>4</td>\n",
       "      <td>5</td>\n",
       "      <td>5</td>\n",
       "      <td>AB</td>\n",
       "    </tr>\n",
       "    <tr>\n",
       "      <th>4</th>\n",
       "      <td>AB</td>\n",
       "      <td>AB</td>\n",
       "      <td>AB</td>\n",
       "      <td>5</td>\n",
       "      <td>4</td>\n",
       "      <td>3</td>\n",
       "      <td>3</td>\n",
       "      <td>5</td>\n",
       "      <td>3</td>\n",
       "      <td>5</td>\n",
       "      <td>5</td>\n",
       "      <td>3</td>\n",
       "    </tr>\n",
       "    <tr>\n",
       "      <th>...</th>\n",
       "      <td>...</td>\n",
       "      <td>...</td>\n",
       "      <td>...</td>\n",
       "      <td>...</td>\n",
       "      <td>...</td>\n",
       "      <td>...</td>\n",
       "      <td>...</td>\n",
       "      <td>...</td>\n",
       "      <td>...</td>\n",
       "      <td>...</td>\n",
       "      <td>...</td>\n",
       "      <td>...</td>\n",
       "    </tr>\n",
       "    <tr>\n",
       "      <th>1048</th>\n",
       "      <td>5</td>\n",
       "      <td>4</td>\n",
       "      <td>AB</td>\n",
       "      <td>5</td>\n",
       "      <td>3</td>\n",
       "      <td>4</td>\n",
       "      <td>AB</td>\n",
       "      <td>3</td>\n",
       "      <td>4</td>\n",
       "      <td>5</td>\n",
       "      <td>4</td>\n",
       "      <td>5</td>\n",
       "    </tr>\n",
       "    <tr>\n",
       "      <th>1049</th>\n",
       "      <td>5</td>\n",
       "      <td>2</td>\n",
       "      <td>3</td>\n",
       "      <td>4</td>\n",
       "      <td>3</td>\n",
       "      <td>5</td>\n",
       "      <td>2</td>\n",
       "      <td>5</td>\n",
       "      <td>AB</td>\n",
       "      <td>5</td>\n",
       "      <td>5</td>\n",
       "      <td>5</td>\n",
       "    </tr>\n",
       "    <tr>\n",
       "      <th>1050</th>\n",
       "      <td>5</td>\n",
       "      <td>3</td>\n",
       "      <td>5</td>\n",
       "      <td>4</td>\n",
       "      <td>3</td>\n",
       "      <td>3</td>\n",
       "      <td>4</td>\n",
       "      <td>5</td>\n",
       "      <td>4</td>\n",
       "      <td>5</td>\n",
       "      <td>5</td>\n",
       "      <td>5</td>\n",
       "    </tr>\n",
       "    <tr>\n",
       "      <th>1051</th>\n",
       "      <td>5</td>\n",
       "      <td>3</td>\n",
       "      <td>3</td>\n",
       "      <td>AB</td>\n",
       "      <td>4</td>\n",
       "      <td>AB</td>\n",
       "      <td>AB</td>\n",
       "      <td>5</td>\n",
       "      <td>AB</td>\n",
       "      <td>5</td>\n",
       "      <td>5</td>\n",
       "      <td>3</td>\n",
       "    </tr>\n",
       "    <tr>\n",
       "      <th>1052</th>\n",
       "      <td>AB</td>\n",
       "      <td>AB</td>\n",
       "      <td>3</td>\n",
       "      <td>AB</td>\n",
       "      <td>5</td>\n",
       "      <td>AB</td>\n",
       "      <td>4</td>\n",
       "      <td>AB</td>\n",
       "      <td>AB</td>\n",
       "      <td>4</td>\n",
       "      <td>5</td>\n",
       "      <td>3</td>\n",
       "    </tr>\n",
       "  </tbody>\n",
       "</table>\n",
       "<p>1053 rows × 12 columns</p>\n",
       "</div>"
      ],
      "text/plain": [
       "     Q1 (5) Q2 (5) Q3 (5) Q4 (5) Q5 (5) Q6 (5) Q7 (5) Q8 (5) Q9 (5) Q10 (5)  \\\n",
       "0        AB     AB     AB     AB     AB     AB      3      5     AB      AB   \n",
       "1         5     AB      4      4      4      4      4      3      5       5   \n",
       "2         5      4      4      4      4      5      4      3      4       5   \n",
       "3        AB     AB     AB     AB      3      5      3      4      4       5   \n",
       "4        AB     AB     AB      5      4      3      3      5      3       5   \n",
       "...     ...    ...    ...    ...    ...    ...    ...    ...    ...     ...   \n",
       "1048      5      4     AB      5      3      4     AB      3      4       5   \n",
       "1049      5      2      3      4      3      5      2      5     AB       5   \n",
       "1050      5      3      5      4      3      3      4      5      4       5   \n",
       "1051      5      3      3     AB      4     AB     AB      5     AB       5   \n",
       "1052     AB     AB      3     AB      5     AB      4     AB     AB       4   \n",
       "\n",
       "     Q11 (5) Q12 (5)  \n",
       "0         AB       4  \n",
       "1          5       3  \n",
       "2          4       2  \n",
       "3          5      AB  \n",
       "4          5       3  \n",
       "...      ...     ...  \n",
       "1048       4       5  \n",
       "1049       5       5  \n",
       "1050       5       5  \n",
       "1051       5       3  \n",
       "1052       5       3  \n",
       "\n",
       "[1053 rows x 12 columns]"
      ]
     },
     "execution_count": 11,
     "metadata": {},
     "output_type": "execute_result"
    }
   ],
   "source": [
    "df_sub = df[['Q1 (5)','Q2 (5)','Q3 (5)','Q4 (5)','Q5 (5)','Q6 (5)','Q7 (5)','Q8 (5)','Q9 (5)','Q10 (5)','Q11 (5)','Q12 (5)',]]\n",
    "df_sub"
   ]
  },
  {
   "cell_type": "code",
   "execution_count": 12,
   "id": "ba647b84",
   "metadata": {
    "execution": {
     "iopub.execute_input": "2025-07-25T09:20:14.321075Z",
     "iopub.status.busy": "2025-07-25T09:20:14.320716Z",
     "iopub.status.idle": "2025-07-25T09:20:14.327369Z",
     "shell.execute_reply": "2025-07-25T09:20:14.326272Z"
    },
    "papermill": {
     "duration": 0.015655,
     "end_time": "2025-07-25T09:20:14.329140",
     "exception": false,
     "start_time": "2025-07-25T09:20:14.313485",
     "status": "completed"
    },
    "tags": []
   },
   "outputs": [],
   "source": [
    "x=df_sub.groupby('Q1 (5)')['Q1 (5)'].count()"
   ]
  },
  {
   "cell_type": "code",
   "execution_count": 13,
   "id": "35c1622d",
   "metadata": {
    "execution": {
     "iopub.execute_input": "2025-07-25T09:20:14.343318Z",
     "iopub.status.busy": "2025-07-25T09:20:14.342775Z",
     "iopub.status.idle": "2025-07-25T09:20:14.348730Z",
     "shell.execute_reply": "2025-07-25T09:20:14.347501Z"
    },
    "papermill": {
     "duration": 0.015741,
     "end_time": "2025-07-25T09:20:14.351272",
     "exception": false,
     "start_time": "2025-07-25T09:20:14.335531",
     "status": "completed"
    },
    "tags": []
   },
   "outputs": [],
   "source": [
    "x_df = pd.DataFrame(x)\n",
    "x_df=x_df.rename_axis('grades')"
   ]
  },
  {
   "cell_type": "code",
   "execution_count": 14,
   "id": "18ee6286",
   "metadata": {
    "execution": {
     "iopub.execute_input": "2025-07-25T09:20:14.365114Z",
     "iopub.status.busy": "2025-07-25T09:20:14.364715Z",
     "iopub.status.idle": "2025-07-25T09:20:14.369997Z",
     "shell.execute_reply": "2025-07-25T09:20:14.368900Z"
    },
    "papermill": {
     "duration": 0.014277,
     "end_time": "2025-07-25T09:20:14.371902",
     "exception": false,
     "start_time": "2025-07-25T09:20:14.357625",
     "status": "completed"
    },
    "tags": []
   },
   "outputs": [],
   "source": [
    "df_1=x_df"
   ]
  },
  {
   "cell_type": "code",
   "execution_count": 15,
   "id": "f21286e3",
   "metadata": {
    "execution": {
     "iopub.execute_input": "2025-07-25T09:20:14.385859Z",
     "iopub.status.busy": "2025-07-25T09:20:14.385475Z",
     "iopub.status.idle": "2025-07-25T09:20:14.429461Z",
     "shell.execute_reply": "2025-07-25T09:20:14.428328Z"
    },
    "papermill": {
     "duration": 0.053426,
     "end_time": "2025-07-25T09:20:14.431829",
     "exception": false,
     "start_time": "2025-07-25T09:20:14.378403",
     "status": "completed"
    },
    "tags": []
   },
   "outputs": [],
   "source": [
    "col = ['Q2 (5)','Q3 (5)','Q4 (5)','Q5 (5)','Q6 (5)','Q7 (5)','Q8 (5)','Q9 (5)','Q10 (5)','Q11 (5)','Q12 (5)']\n",
    "for i in col:\n",
    "    x2=df_sub.groupby(i)[i].count()\n",
    "    x2_df = pd.DataFrame(x2)\n",
    "    x2_df=x2_df.rename_axis('grades')\n",
    "    \n",
    "    df_1 = pd.merge(df_1,x2_df,on='grades')"
   ]
  },
  {
   "cell_type": "code",
   "execution_count": 16,
   "id": "3f486e17",
   "metadata": {
    "execution": {
     "iopub.execute_input": "2025-07-25T09:20:14.444472Z",
     "iopub.status.busy": "2025-07-25T09:20:14.444159Z",
     "iopub.status.idle": "2025-07-25T09:20:14.457710Z",
     "shell.execute_reply": "2025-07-25T09:20:14.456450Z"
    },
    "papermill": {
     "duration": 0.021906,
     "end_time": "2025-07-25T09:20:14.459431",
     "exception": false,
     "start_time": "2025-07-25T09:20:14.437525",
     "status": "completed"
    },
    "tags": []
   },
   "outputs": [
    {
     "data": {
      "text/html": [
       "<div>\n",
       "<style scoped>\n",
       "    .dataframe tbody tr th:only-of-type {\n",
       "        vertical-align: middle;\n",
       "    }\n",
       "\n",
       "    .dataframe tbody tr th {\n",
       "        vertical-align: top;\n",
       "    }\n",
       "\n",
       "    .dataframe thead th {\n",
       "        text-align: right;\n",
       "    }\n",
       "</style>\n",
       "<table border=\"1\" class=\"dataframe\">\n",
       "  <thead>\n",
       "    <tr style=\"text-align: right;\">\n",
       "      <th></th>\n",
       "      <th>Q1 (5)</th>\n",
       "      <th>Q2 (5)</th>\n",
       "      <th>Q3 (5)</th>\n",
       "      <th>Q4 (5)</th>\n",
       "      <th>Q5 (5)</th>\n",
       "      <th>Q6 (5)</th>\n",
       "      <th>Q7 (5)</th>\n",
       "      <th>Q8 (5)</th>\n",
       "      <th>Q9 (5)</th>\n",
       "      <th>Q10 (5)</th>\n",
       "      <th>Q11 (5)</th>\n",
       "      <th>Q12 (5)</th>\n",
       "    </tr>\n",
       "    <tr>\n",
       "      <th>grades</th>\n",
       "      <th></th>\n",
       "      <th></th>\n",
       "      <th></th>\n",
       "      <th></th>\n",
       "      <th></th>\n",
       "      <th></th>\n",
       "      <th></th>\n",
       "      <th></th>\n",
       "      <th></th>\n",
       "      <th></th>\n",
       "      <th></th>\n",
       "      <th></th>\n",
       "    </tr>\n",
       "  </thead>\n",
       "  <tbody>\n",
       "    <tr>\n",
       "      <th>0</th>\n",
       "      <td>9</td>\n",
       "      <td>11</td>\n",
       "      <td>2</td>\n",
       "      <td>10</td>\n",
       "      <td>13</td>\n",
       "      <td>3</td>\n",
       "      <td>2</td>\n",
       "      <td>1</td>\n",
       "      <td>3</td>\n",
       "      <td>1</td>\n",
       "      <td>1</td>\n",
       "      <td>1</td>\n",
       "    </tr>\n",
       "    <tr>\n",
       "      <th>1</th>\n",
       "      <td>1</td>\n",
       "      <td>45</td>\n",
       "      <td>6</td>\n",
       "      <td>3</td>\n",
       "      <td>43</td>\n",
       "      <td>6</td>\n",
       "      <td>19</td>\n",
       "      <td>6</td>\n",
       "      <td>3</td>\n",
       "      <td>3</td>\n",
       "      <td>1</td>\n",
       "      <td>23</td>\n",
       "    </tr>\n",
       "    <tr>\n",
       "      <th>2</th>\n",
       "      <td>30</td>\n",
       "      <td>129</td>\n",
       "      <td>32</td>\n",
       "      <td>12</td>\n",
       "      <td>163</td>\n",
       "      <td>46</td>\n",
       "      <td>104</td>\n",
       "      <td>30</td>\n",
       "      <td>10</td>\n",
       "      <td>8</td>\n",
       "      <td>5</td>\n",
       "      <td>87</td>\n",
       "    </tr>\n",
       "    <tr>\n",
       "      <th>3</th>\n",
       "      <td>78</td>\n",
       "      <td>254</td>\n",
       "      <td>159</td>\n",
       "      <td>80</td>\n",
       "      <td>286</td>\n",
       "      <td>122</td>\n",
       "      <td>266</td>\n",
       "      <td>185</td>\n",
       "      <td>35</td>\n",
       "      <td>25</td>\n",
       "      <td>55</td>\n",
       "      <td>143</td>\n",
       "    </tr>\n",
       "    <tr>\n",
       "      <th>4</th>\n",
       "      <td>227</td>\n",
       "      <td>278</td>\n",
       "      <td>392</td>\n",
       "      <td>373</td>\n",
       "      <td>316</td>\n",
       "      <td>377</td>\n",
       "      <td>367</td>\n",
       "      <td>443</td>\n",
       "      <td>233</td>\n",
       "      <td>139</td>\n",
       "      <td>316</td>\n",
       "      <td>214</td>\n",
       "    </tr>\n",
       "    <tr>\n",
       "      <th>5</th>\n",
       "      <td>546</td>\n",
       "      <td>193</td>\n",
       "      <td>342</td>\n",
       "      <td>453</td>\n",
       "      <td>111</td>\n",
       "      <td>402</td>\n",
       "      <td>170</td>\n",
       "      <td>270</td>\n",
       "      <td>662</td>\n",
       "      <td>765</td>\n",
       "      <td>559</td>\n",
       "      <td>472</td>\n",
       "    </tr>\n",
       "    <tr>\n",
       "      <th>AB</th>\n",
       "      <td>161</td>\n",
       "      <td>143</td>\n",
       "      <td>120</td>\n",
       "      <td>122</td>\n",
       "      <td>121</td>\n",
       "      <td>97</td>\n",
       "      <td>125</td>\n",
       "      <td>118</td>\n",
       "      <td>107</td>\n",
       "      <td>112</td>\n",
       "      <td>116</td>\n",
       "      <td>113</td>\n",
       "    </tr>\n",
       "  </tbody>\n",
       "</table>\n",
       "</div>"
      ],
      "text/plain": [
       "        Q1 (5)  Q2 (5)  Q3 (5)  Q4 (5)  Q5 (5)  Q6 (5)  Q7 (5)  Q8 (5)  \\\n",
       "grades                                                                   \n",
       "0            9      11       2      10      13       3       2       1   \n",
       "1            1      45       6       3      43       6      19       6   \n",
       "2           30     129      32      12     163      46     104      30   \n",
       "3           78     254     159      80     286     122     266     185   \n",
       "4          227     278     392     373     316     377     367     443   \n",
       "5          546     193     342     453     111     402     170     270   \n",
       "AB         161     143     120     122     121      97     125     118   \n",
       "\n",
       "        Q9 (5)  Q10 (5)  Q11 (5)  Q12 (5)  \n",
       "grades                                     \n",
       "0            3        1        1        1  \n",
       "1            3        3        1       23  \n",
       "2           10        8        5       87  \n",
       "3           35       25       55      143  \n",
       "4          233      139      316      214  \n",
       "5          662      765      559      472  \n",
       "AB         107      112      116      113  "
      ]
     },
     "execution_count": 16,
     "metadata": {},
     "output_type": "execute_result"
    }
   ],
   "source": [
    "df_1"
   ]
  },
  {
   "cell_type": "code",
   "execution_count": 17,
   "id": "6eb7ea43",
   "metadata": {
    "execution": {
     "iopub.execute_input": "2025-07-25T09:20:14.472545Z",
     "iopub.status.busy": "2025-07-25T09:20:14.472252Z",
     "iopub.status.idle": "2025-07-25T09:20:14.478168Z",
     "shell.execute_reply": "2025-07-25T09:20:14.476777Z"
    },
    "papermill": {
     "duration": 0.014861,
     "end_time": "2025-07-25T09:20:14.480206",
     "exception": false,
     "start_time": "2025-07-25T09:20:14.465345",
     "status": "completed"
    },
    "tags": []
   },
   "outputs": [],
   "source": [
    "df_1.columns=['Q1','Q2','Q3','Q4','Q5','Q6','Q7','Q8','Q9','Q10','Q11','Q12']"
   ]
  },
  {
   "cell_type": "code",
   "execution_count": 18,
   "id": "f97b5240",
   "metadata": {
    "execution": {
     "iopub.execute_input": "2025-07-25T09:20:14.495000Z",
     "iopub.status.busy": "2025-07-25T09:20:14.494516Z",
     "iopub.status.idle": "2025-07-25T09:20:14.507459Z",
     "shell.execute_reply": "2025-07-25T09:20:14.506347Z"
    },
    "papermill": {
     "duration": 0.022725,
     "end_time": "2025-07-25T09:20:14.509378",
     "exception": false,
     "start_time": "2025-07-25T09:20:14.486653",
     "status": "completed"
    },
    "tags": []
   },
   "outputs": [
    {
     "data": {
      "text/html": [
       "<div>\n",
       "<style scoped>\n",
       "    .dataframe tbody tr th:only-of-type {\n",
       "        vertical-align: middle;\n",
       "    }\n",
       "\n",
       "    .dataframe tbody tr th {\n",
       "        vertical-align: top;\n",
       "    }\n",
       "\n",
       "    .dataframe thead th {\n",
       "        text-align: right;\n",
       "    }\n",
       "</style>\n",
       "<table border=\"1\" class=\"dataframe\">\n",
       "  <thead>\n",
       "    <tr style=\"text-align: right;\">\n",
       "      <th></th>\n",
       "      <th>Q1</th>\n",
       "      <th>Q2</th>\n",
       "      <th>Q3</th>\n",
       "      <th>Q4</th>\n",
       "      <th>Q5</th>\n",
       "      <th>Q6</th>\n",
       "      <th>Q7</th>\n",
       "      <th>Q8</th>\n",
       "      <th>Q9</th>\n",
       "      <th>Q10</th>\n",
       "      <th>Q11</th>\n",
       "      <th>Q12</th>\n",
       "    </tr>\n",
       "    <tr>\n",
       "      <th>grades</th>\n",
       "      <th></th>\n",
       "      <th></th>\n",
       "      <th></th>\n",
       "      <th></th>\n",
       "      <th></th>\n",
       "      <th></th>\n",
       "      <th></th>\n",
       "      <th></th>\n",
       "      <th></th>\n",
       "      <th></th>\n",
       "      <th></th>\n",
       "      <th></th>\n",
       "    </tr>\n",
       "  </thead>\n",
       "  <tbody>\n",
       "    <tr>\n",
       "      <th>0</th>\n",
       "      <td>9</td>\n",
       "      <td>11</td>\n",
       "      <td>2</td>\n",
       "      <td>10</td>\n",
       "      <td>13</td>\n",
       "      <td>3</td>\n",
       "      <td>2</td>\n",
       "      <td>1</td>\n",
       "      <td>3</td>\n",
       "      <td>1</td>\n",
       "      <td>1</td>\n",
       "      <td>1</td>\n",
       "    </tr>\n",
       "    <tr>\n",
       "      <th>1</th>\n",
       "      <td>1</td>\n",
       "      <td>45</td>\n",
       "      <td>6</td>\n",
       "      <td>3</td>\n",
       "      <td>43</td>\n",
       "      <td>6</td>\n",
       "      <td>19</td>\n",
       "      <td>6</td>\n",
       "      <td>3</td>\n",
       "      <td>3</td>\n",
       "      <td>1</td>\n",
       "      <td>23</td>\n",
       "    </tr>\n",
       "    <tr>\n",
       "      <th>2</th>\n",
       "      <td>30</td>\n",
       "      <td>129</td>\n",
       "      <td>32</td>\n",
       "      <td>12</td>\n",
       "      <td>163</td>\n",
       "      <td>46</td>\n",
       "      <td>104</td>\n",
       "      <td>30</td>\n",
       "      <td>10</td>\n",
       "      <td>8</td>\n",
       "      <td>5</td>\n",
       "      <td>87</td>\n",
       "    </tr>\n",
       "    <tr>\n",
       "      <th>3</th>\n",
       "      <td>78</td>\n",
       "      <td>254</td>\n",
       "      <td>159</td>\n",
       "      <td>80</td>\n",
       "      <td>286</td>\n",
       "      <td>122</td>\n",
       "      <td>266</td>\n",
       "      <td>185</td>\n",
       "      <td>35</td>\n",
       "      <td>25</td>\n",
       "      <td>55</td>\n",
       "      <td>143</td>\n",
       "    </tr>\n",
       "    <tr>\n",
       "      <th>4</th>\n",
       "      <td>227</td>\n",
       "      <td>278</td>\n",
       "      <td>392</td>\n",
       "      <td>373</td>\n",
       "      <td>316</td>\n",
       "      <td>377</td>\n",
       "      <td>367</td>\n",
       "      <td>443</td>\n",
       "      <td>233</td>\n",
       "      <td>139</td>\n",
       "      <td>316</td>\n",
       "      <td>214</td>\n",
       "    </tr>\n",
       "    <tr>\n",
       "      <th>5</th>\n",
       "      <td>546</td>\n",
       "      <td>193</td>\n",
       "      <td>342</td>\n",
       "      <td>453</td>\n",
       "      <td>111</td>\n",
       "      <td>402</td>\n",
       "      <td>170</td>\n",
       "      <td>270</td>\n",
       "      <td>662</td>\n",
       "      <td>765</td>\n",
       "      <td>559</td>\n",
       "      <td>472</td>\n",
       "    </tr>\n",
       "    <tr>\n",
       "      <th>AB</th>\n",
       "      <td>161</td>\n",
       "      <td>143</td>\n",
       "      <td>120</td>\n",
       "      <td>122</td>\n",
       "      <td>121</td>\n",
       "      <td>97</td>\n",
       "      <td>125</td>\n",
       "      <td>118</td>\n",
       "      <td>107</td>\n",
       "      <td>112</td>\n",
       "      <td>116</td>\n",
       "      <td>113</td>\n",
       "    </tr>\n",
       "  </tbody>\n",
       "</table>\n",
       "</div>"
      ],
      "text/plain": [
       "         Q1   Q2   Q3   Q4   Q5   Q6   Q7   Q8   Q9  Q10  Q11  Q12\n",
       "grades                                                            \n",
       "0         9   11    2   10   13    3    2    1    3    1    1    1\n",
       "1         1   45    6    3   43    6   19    6    3    3    1   23\n",
       "2        30  129   32   12  163   46  104   30   10    8    5   87\n",
       "3        78  254  159   80  286  122  266  185   35   25   55  143\n",
       "4       227  278  392  373  316  377  367  443  233  139  316  214\n",
       "5       546  193  342  453  111  402  170  270  662  765  559  472\n",
       "AB      161  143  120  122  121   97  125  118  107  112  116  113"
      ]
     },
     "execution_count": 18,
     "metadata": {},
     "output_type": "execute_result"
    }
   ],
   "source": [
    "df_1"
   ]
  },
  {
   "cell_type": "code",
   "execution_count": 19,
   "id": "7f22d36b",
   "metadata": {
    "execution": {
     "iopub.execute_input": "2025-07-25T09:20:14.523781Z",
     "iopub.status.busy": "2025-07-25T09:20:14.523394Z",
     "iopub.status.idle": "2025-07-25T09:20:14.530402Z",
     "shell.execute_reply": "2025-07-25T09:20:14.528980Z"
    },
    "papermill": {
     "duration": 0.017035,
     "end_time": "2025-07-25T09:20:14.532917",
     "exception": false,
     "start_time": "2025-07-25T09:20:14.515882",
     "status": "completed"
    },
    "tags": []
   },
   "outputs": [],
   "source": [
    "df_t = df_1.T"
   ]
  },
  {
   "cell_type": "code",
   "execution_count": 20,
   "id": "7c2c7728",
   "metadata": {
    "execution": {
     "iopub.execute_input": "2025-07-25T09:20:14.551571Z",
     "iopub.status.busy": "2025-07-25T09:20:14.551201Z",
     "iopub.status.idle": "2025-07-25T09:20:14.563640Z",
     "shell.execute_reply": "2025-07-25T09:20:14.562263Z"
    },
    "papermill": {
     "duration": 0.025335,
     "end_time": "2025-07-25T09:20:14.565625",
     "exception": false,
     "start_time": "2025-07-25T09:20:14.540290",
     "status": "completed"
    },
    "tags": []
   },
   "outputs": [
    {
     "data": {
      "text/html": [
       "<div>\n",
       "<style scoped>\n",
       "    .dataframe tbody tr th:only-of-type {\n",
       "        vertical-align: middle;\n",
       "    }\n",
       "\n",
       "    .dataframe tbody tr th {\n",
       "        vertical-align: top;\n",
       "    }\n",
       "\n",
       "    .dataframe thead th {\n",
       "        text-align: right;\n",
       "    }\n",
       "</style>\n",
       "<table border=\"1\" class=\"dataframe\">\n",
       "  <thead>\n",
       "    <tr style=\"text-align: right;\">\n",
       "      <th>grades</th>\n",
       "      <th>0</th>\n",
       "      <th>1</th>\n",
       "      <th>2</th>\n",
       "      <th>3</th>\n",
       "      <th>4</th>\n",
       "      <th>5</th>\n",
       "      <th>AB</th>\n",
       "    </tr>\n",
       "  </thead>\n",
       "  <tbody>\n",
       "    <tr>\n",
       "      <th>Q1</th>\n",
       "      <td>9</td>\n",
       "      <td>1</td>\n",
       "      <td>30</td>\n",
       "      <td>78</td>\n",
       "      <td>227</td>\n",
       "      <td>546</td>\n",
       "      <td>161</td>\n",
       "    </tr>\n",
       "    <tr>\n",
       "      <th>Q2</th>\n",
       "      <td>11</td>\n",
       "      <td>45</td>\n",
       "      <td>129</td>\n",
       "      <td>254</td>\n",
       "      <td>278</td>\n",
       "      <td>193</td>\n",
       "      <td>143</td>\n",
       "    </tr>\n",
       "    <tr>\n",
       "      <th>Q3</th>\n",
       "      <td>2</td>\n",
       "      <td>6</td>\n",
       "      <td>32</td>\n",
       "      <td>159</td>\n",
       "      <td>392</td>\n",
       "      <td>342</td>\n",
       "      <td>120</td>\n",
       "    </tr>\n",
       "    <tr>\n",
       "      <th>Q4</th>\n",
       "      <td>10</td>\n",
       "      <td>3</td>\n",
       "      <td>12</td>\n",
       "      <td>80</td>\n",
       "      <td>373</td>\n",
       "      <td>453</td>\n",
       "      <td>122</td>\n",
       "    </tr>\n",
       "    <tr>\n",
       "      <th>Q5</th>\n",
       "      <td>13</td>\n",
       "      <td>43</td>\n",
       "      <td>163</td>\n",
       "      <td>286</td>\n",
       "      <td>316</td>\n",
       "      <td>111</td>\n",
       "      <td>121</td>\n",
       "    </tr>\n",
       "    <tr>\n",
       "      <th>Q6</th>\n",
       "      <td>3</td>\n",
       "      <td>6</td>\n",
       "      <td>46</td>\n",
       "      <td>122</td>\n",
       "      <td>377</td>\n",
       "      <td>402</td>\n",
       "      <td>97</td>\n",
       "    </tr>\n",
       "    <tr>\n",
       "      <th>Q7</th>\n",
       "      <td>2</td>\n",
       "      <td>19</td>\n",
       "      <td>104</td>\n",
       "      <td>266</td>\n",
       "      <td>367</td>\n",
       "      <td>170</td>\n",
       "      <td>125</td>\n",
       "    </tr>\n",
       "    <tr>\n",
       "      <th>Q8</th>\n",
       "      <td>1</td>\n",
       "      <td>6</td>\n",
       "      <td>30</td>\n",
       "      <td>185</td>\n",
       "      <td>443</td>\n",
       "      <td>270</td>\n",
       "      <td>118</td>\n",
       "    </tr>\n",
       "    <tr>\n",
       "      <th>Q9</th>\n",
       "      <td>3</td>\n",
       "      <td>3</td>\n",
       "      <td>10</td>\n",
       "      <td>35</td>\n",
       "      <td>233</td>\n",
       "      <td>662</td>\n",
       "      <td>107</td>\n",
       "    </tr>\n",
       "    <tr>\n",
       "      <th>Q10</th>\n",
       "      <td>1</td>\n",
       "      <td>3</td>\n",
       "      <td>8</td>\n",
       "      <td>25</td>\n",
       "      <td>139</td>\n",
       "      <td>765</td>\n",
       "      <td>112</td>\n",
       "    </tr>\n",
       "    <tr>\n",
       "      <th>Q11</th>\n",
       "      <td>1</td>\n",
       "      <td>1</td>\n",
       "      <td>5</td>\n",
       "      <td>55</td>\n",
       "      <td>316</td>\n",
       "      <td>559</td>\n",
       "      <td>116</td>\n",
       "    </tr>\n",
       "    <tr>\n",
       "      <th>Q12</th>\n",
       "      <td>1</td>\n",
       "      <td>23</td>\n",
       "      <td>87</td>\n",
       "      <td>143</td>\n",
       "      <td>214</td>\n",
       "      <td>472</td>\n",
       "      <td>113</td>\n",
       "    </tr>\n",
       "  </tbody>\n",
       "</table>\n",
       "</div>"
      ],
      "text/plain": [
       "grades   0   1    2    3    4    5   AB\n",
       "Q1       9   1   30   78  227  546  161\n",
       "Q2      11  45  129  254  278  193  143\n",
       "Q3       2   6   32  159  392  342  120\n",
       "Q4      10   3   12   80  373  453  122\n",
       "Q5      13  43  163  286  316  111  121\n",
       "Q6       3   6   46  122  377  402   97\n",
       "Q7       2  19  104  266  367  170  125\n",
       "Q8       1   6   30  185  443  270  118\n",
       "Q9       3   3   10   35  233  662  107\n",
       "Q10      1   3    8   25  139  765  112\n",
       "Q11      1   1    5   55  316  559  116\n",
       "Q12      1  23   87  143  214  472  113"
      ]
     },
     "execution_count": 20,
     "metadata": {},
     "output_type": "execute_result"
    }
   ],
   "source": [
    "df_t"
   ]
  },
  {
   "cell_type": "code",
   "execution_count": 21,
   "id": "85220dfb",
   "metadata": {
    "execution": {
     "iopub.execute_input": "2025-07-25T09:20:14.582210Z",
     "iopub.status.busy": "2025-07-25T09:20:14.581042Z",
     "iopub.status.idle": "2025-07-25T09:20:14.908790Z",
     "shell.execute_reply": "2025-07-25T09:20:14.907540Z"
    },
    "papermill": {
     "duration": 0.337979,
     "end_time": "2025-07-25T09:20:14.910769",
     "exception": false,
     "start_time": "2025-07-25T09:20:14.572790",
     "status": "completed"
    },
    "tags": []
   },
   "outputs": [
    {
     "data": {
      "text/plain": [
       "[]"
      ]
     },
     "execution_count": 21,
     "metadata": {},
     "output_type": "execute_result"
    },
    {
     "data": {
      "image/png": "[encoded data removed]",
      "text/plain": [
       "<Figure size 640x480 with 1 Axes>"
      ]
     },
     "metadata": {},
     "output_type": "display_data"
    }
   ],
   "source": [
    "plt.plot(df_1['Q1'])\n",
    "plt.ylabel('Frequency')\n",
    "plt.xlabel('Scores')\n",
    "plt.title('How Scores are distributed?')\n",
    "plt.plot()"
   ]
  },
  {
   "cell_type": "code",
   "execution_count": 22,
   "id": "2bbf43ad",
   "metadata": {
    "execution": {
     "iopub.execute_input": "2025-07-25T09:20:14.929230Z",
     "iopub.status.busy": "2025-07-25T09:20:14.927817Z",
     "iopub.status.idle": "2025-07-25T09:20:15.161266Z",
     "shell.execute_reply": "2025-07-25T09:20:15.159851Z"
    },
    "papermill": {
     "duration": 0.244385,
     "end_time": "2025-07-25T09:20:15.163396",
     "exception": false,
     "start_time": "2025-07-25T09:20:14.919011",
     "status": "completed"
    },
    "tags": []
   },
   "outputs": [
    {
     "data": {
      "text/plain": [
       "[]"
      ]
     },
     "execution_count": 22,
     "metadata": {},
     "output_type": "execute_result"
    },
    {
     "data": {
      "image/png": "[encoded data removed]",
      "text/plain": [
       "<Figure size 640x480 with 1 Axes>"
      ]
     },
     "metadata": {},
     "output_type": "display_data"
    }
   ],
   "source": [
    "plt.plot(df_t['AB'])\n",
    "plt.ylabel('Frequency')\n",
    "plt.xlabel('Which Test Number')\n",
    "plt.title('Distribution of Absent People')\n",
    "plt.plot()"
   ]
  },
  {
   "cell_type": "code",
   "execution_count": 23,
   "id": "4a738429",
   "metadata": {
    "execution": {
     "iopub.execute_input": "2025-07-25T09:20:15.180617Z",
     "iopub.status.busy": "2025-07-25T09:20:15.180235Z",
     "iopub.status.idle": "2025-07-25T09:20:15.415641Z",
     "shell.execute_reply": "2025-07-25T09:20:15.414478Z"
    },
    "papermill": {
     "duration": 0.246106,
     "end_time": "2025-07-25T09:20:15.417313",
     "exception": false,
     "start_time": "2025-07-25T09:20:15.171207",
     "status": "completed"
    },
    "tags": []
   },
   "outputs": [
    {
     "data": {
      "text/plain": [
       "[]"
      ]
     },
     "execution_count": 23,
     "metadata": {},
     "output_type": "execute_result"
    },
    {
     "data": {
      "image/png": "[encoded data removed]",
      "text/plain": [
       "<Figure size 640x480 with 1 Axes>"
      ]
     },
     "metadata": {},
     "output_type": "display_data"
    }
   ],
   "source": [
    "plt.plot(df_t['5'])\n",
    "plt.ylabel('Frequency')\n",
    "plt.xlabel('Which Test Number')\n",
    "plt.title('Distribution of top scorer')\n",
    "plt.plot()"
   ]
  },
  {
   "cell_type": "code",
   "execution_count": 24,
   "id": "dc1528b8",
   "metadata": {
    "execution": {
     "iopub.execute_input": "2025-07-25T09:20:15.436150Z",
     "iopub.status.busy": "2025-07-25T09:20:15.435786Z",
     "iopub.status.idle": "2025-07-25T09:20:15.701461Z",
     "shell.execute_reply": "2025-07-25T09:20:15.700044Z"
    },
    "papermill": {
     "duration": 0.277796,
     "end_time": "2025-07-25T09:20:15.704167",
     "exception": false,
     "start_time": "2025-07-25T09:20:15.426371",
     "status": "completed"
    },
    "tags": []
   },
   "outputs": [
    {
     "data": {
      "text/plain": [
       "[]"
      ]
     },
     "execution_count": 24,
     "metadata": {},
     "output_type": "execute_result"
    },
    {
     "data": {
      "image/png": "[encoded data removed]",
      "text/plain": [
       "<Figure size 640x480 with 1 Axes>"
      ]
     },
     "metadata": {},
     "output_type": "display_data"
    }
   ],
   "source": [
    "plt.plot(df_t['0'])\n",
    "plt.ylabel('Frequency')\n",
    "plt.xlabel('Which Test Number')\n",
    "plt.title('Distribution of lowest scorer')\n",
    "plt.plot()"
   ]
  },
  {
   "cell_type": "code",
   "execution_count": 25,
   "id": "e3382300",
   "metadata": {
    "execution": {
     "iopub.execute_input": "2025-07-25T09:20:15.735154Z",
     "iopub.status.busy": "2025-07-25T09:20:15.734665Z",
     "iopub.status.idle": "2025-07-25T09:20:16.413432Z",
     "shell.execute_reply": "2025-07-25T09:20:16.412189Z"
    },
    "papermill": {
     "duration": 0.693143,
     "end_time": "2025-07-25T09:20:16.415657",
     "exception": false,
     "start_time": "2025-07-25T09:20:15.722514",
     "status": "completed"
    },
    "tags": []
   },
   "outputs": [
    {
     "data": {
      "text/plain": [
       "[]"
      ]
     },
     "execution_count": 25,
     "metadata": {},
     "output_type": "execute_result"
    },
    {
     "data": {
      "image/png": "[encoded data removed]",
      "text/plain": [
       "<Figure size 1500x1000 with 1 Axes>"
      ]
     },
     "metadata": {},
     "output_type": "display_data"
    }
   ],
   "source": [
    "df_t.plot(kind='bar',figsize=(15,10))\n",
    "plt.plot()\n",
    "plt.ylabel('Frequency')\n",
    "plt.xlabel('Which Test Number')\n",
    "plt.title('Distribution Scoreon Test Basis')\n",
    "plt.plot()"
   ]
  },
  {
   "cell_type": "code",
   "execution_count": 26,
   "id": "374b0907",
   "metadata": {
    "execution": {
     "iopub.execute_input": "2025-07-25T09:20:16.460146Z",
     "iopub.status.busy": "2025-07-25T09:20:16.459705Z",
     "iopub.status.idle": "2025-07-25T09:20:16.479081Z",
     "shell.execute_reply": "2025-07-25T09:20:16.478033Z"
    },
    "papermill": {
     "duration": 0.044469,
     "end_time": "2025-07-25T09:20:16.481030",
     "exception": false,
     "start_time": "2025-07-25T09:20:16.436561",
     "status": "completed"
    },
    "tags": []
   },
   "outputs": [
    {
     "data": {
      "text/html": [
       "<div>\n",
       "<style scoped>\n",
       "    .dataframe tbody tr th:only-of-type {\n",
       "        vertical-align: middle;\n",
       "    }\n",
       "\n",
       "    .dataframe tbody tr th {\n",
       "        vertical-align: top;\n",
       "    }\n",
       "\n",
       "    .dataframe thead th {\n",
       "        text-align: right;\n",
       "    }\n",
       "</style>\n",
       "<table border=\"1\" class=\"dataframe\">\n",
       "  <thead>\n",
       "    <tr style=\"text-align: right;\">\n",
       "      <th></th>\n",
       "      <th>SNO.</th>\n",
       "      <th>ROLL NUMBER</th>\n",
       "      <th>Q1 (5)</th>\n",
       "      <th>Q2 (5)</th>\n",
       "      <th>Q3 (5)</th>\n",
       "      <th>Q4 (5)</th>\n",
       "      <th>Q5 (5)</th>\n",
       "      <th>Q6 (5)</th>\n",
       "      <th>Q7 (5)</th>\n",
       "      <th>Q8 (5)</th>\n",
       "      <th>Q9 (5)</th>\n",
       "      <th>Q10 (5)</th>\n",
       "      <th>Q11 (5)</th>\n",
       "      <th>Q12 (5)</th>\n",
       "      <th>Top 9 (out of 45)</th>\n",
       "      <th>Out of 30</th>\n",
       "    </tr>\n",
       "  </thead>\n",
       "  <tbody>\n",
       "    <tr>\n",
       "      <th>0</th>\n",
       "      <td>1</td>\n",
       "      <td>102003733</td>\n",
       "      <td>AB</td>\n",
       "      <td>AB</td>\n",
       "      <td>AB</td>\n",
       "      <td>AB</td>\n",
       "      <td>AB</td>\n",
       "      <td>AB</td>\n",
       "      <td>3</td>\n",
       "      <td>5</td>\n",
       "      <td>AB</td>\n",
       "      <td>AB</td>\n",
       "      <td>AB</td>\n",
       "      <td>4</td>\n",
       "      <td>12</td>\n",
       "      <td>8.0</td>\n",
       "    </tr>\n",
       "    <tr>\n",
       "      <th>1</th>\n",
       "      <td>2</td>\n",
       "      <td>102203002</td>\n",
       "      <td>5</td>\n",
       "      <td>AB</td>\n",
       "      <td>4</td>\n",
       "      <td>4</td>\n",
       "      <td>4</td>\n",
       "      <td>4</td>\n",
       "      <td>4</td>\n",
       "      <td>3</td>\n",
       "      <td>5</td>\n",
       "      <td>5</td>\n",
       "      <td>5</td>\n",
       "      <td>3</td>\n",
       "      <td>40</td>\n",
       "      <td>26.7</td>\n",
       "    </tr>\n",
       "    <tr>\n",
       "      <th>2</th>\n",
       "      <td>3</td>\n",
       "      <td>102203003</td>\n",
       "      <td>5</td>\n",
       "      <td>4</td>\n",
       "      <td>4</td>\n",
       "      <td>4</td>\n",
       "      <td>4</td>\n",
       "      <td>5</td>\n",
       "      <td>4</td>\n",
       "      <td>3</td>\n",
       "      <td>4</td>\n",
       "      <td>5</td>\n",
       "      <td>4</td>\n",
       "      <td>2</td>\n",
       "      <td>39</td>\n",
       "      <td>26.0</td>\n",
       "    </tr>\n",
       "    <tr>\n",
       "      <th>3</th>\n",
       "      <td>4</td>\n",
       "      <td>102203005</td>\n",
       "      <td>AB</td>\n",
       "      <td>AB</td>\n",
       "      <td>AB</td>\n",
       "      <td>AB</td>\n",
       "      <td>3</td>\n",
       "      <td>5</td>\n",
       "      <td>3</td>\n",
       "      <td>4</td>\n",
       "      <td>4</td>\n",
       "      <td>5</td>\n",
       "      <td>5</td>\n",
       "      <td>AB</td>\n",
       "      <td>29</td>\n",
       "      <td>19.3</td>\n",
       "    </tr>\n",
       "    <tr>\n",
       "      <th>4</th>\n",
       "      <td>5</td>\n",
       "      <td>102203007</td>\n",
       "      <td>AB</td>\n",
       "      <td>AB</td>\n",
       "      <td>AB</td>\n",
       "      <td>5</td>\n",
       "      <td>4</td>\n",
       "      <td>3</td>\n",
       "      <td>3</td>\n",
       "      <td>5</td>\n",
       "      <td>3</td>\n",
       "      <td>5</td>\n",
       "      <td>5</td>\n",
       "      <td>3</td>\n",
       "      <td>36</td>\n",
       "      <td>24.0</td>\n",
       "    </tr>\n",
       "    <tr>\n",
       "      <th>...</th>\n",
       "      <td>...</td>\n",
       "      <td>...</td>\n",
       "      <td>...</td>\n",
       "      <td>...</td>\n",
       "      <td>...</td>\n",
       "      <td>...</td>\n",
       "      <td>...</td>\n",
       "      <td>...</td>\n",
       "      <td>...</td>\n",
       "      <td>...</td>\n",
       "      <td>...</td>\n",
       "      <td>...</td>\n",
       "      <td>...</td>\n",
       "      <td>...</td>\n",
       "      <td>...</td>\n",
       "      <td>...</td>\n",
       "    </tr>\n",
       "    <tr>\n",
       "      <th>1048</th>\n",
       "      <td>1049</td>\n",
       "      <td>102383062</td>\n",
       "      <td>5</td>\n",
       "      <td>4</td>\n",
       "      <td>AB</td>\n",
       "      <td>5</td>\n",
       "      <td>3</td>\n",
       "      <td>4</td>\n",
       "      <td>AB</td>\n",
       "      <td>3</td>\n",
       "      <td>4</td>\n",
       "      <td>5</td>\n",
       "      <td>4</td>\n",
       "      <td>5</td>\n",
       "      <td>39</td>\n",
       "      <td>26.0</td>\n",
       "    </tr>\n",
       "    <tr>\n",
       "      <th>1049</th>\n",
       "      <td>1050</td>\n",
       "      <td>102383067</td>\n",
       "      <td>5</td>\n",
       "      <td>2</td>\n",
       "      <td>3</td>\n",
       "      <td>4</td>\n",
       "      <td>3</td>\n",
       "      <td>5</td>\n",
       "      <td>2</td>\n",
       "      <td>5</td>\n",
       "      <td>AB</td>\n",
       "      <td>5</td>\n",
       "      <td>5</td>\n",
       "      <td>5</td>\n",
       "      <td>40</td>\n",
       "      <td>26.7</td>\n",
       "    </tr>\n",
       "    <tr>\n",
       "      <th>1050</th>\n",
       "      <td>1051</td>\n",
       "      <td>102383071</td>\n",
       "      <td>5</td>\n",
       "      <td>3</td>\n",
       "      <td>5</td>\n",
       "      <td>4</td>\n",
       "      <td>3</td>\n",
       "      <td>3</td>\n",
       "      <td>4</td>\n",
       "      <td>5</td>\n",
       "      <td>4</td>\n",
       "      <td>5</td>\n",
       "      <td>5</td>\n",
       "      <td>5</td>\n",
       "      <td>42</td>\n",
       "      <td>28.0</td>\n",
       "    </tr>\n",
       "    <tr>\n",
       "      <th>1051</th>\n",
       "      <td>1052</td>\n",
       "      <td>102383081</td>\n",
       "      <td>5</td>\n",
       "      <td>3</td>\n",
       "      <td>3</td>\n",
       "      <td>AB</td>\n",
       "      <td>4</td>\n",
       "      <td>AB</td>\n",
       "      <td>AB</td>\n",
       "      <td>5</td>\n",
       "      <td>AB</td>\n",
       "      <td>5</td>\n",
       "      <td>5</td>\n",
       "      <td>3</td>\n",
       "      <td>33</td>\n",
       "      <td>22.0</td>\n",
       "    </tr>\n",
       "    <tr>\n",
       "      <th>1052</th>\n",
       "      <td>1053</td>\n",
       "      <td>102383083</td>\n",
       "      <td>AB</td>\n",
       "      <td>AB</td>\n",
       "      <td>3</td>\n",
       "      <td>AB</td>\n",
       "      <td>5</td>\n",
       "      <td>AB</td>\n",
       "      <td>4</td>\n",
       "      <td>AB</td>\n",
       "      <td>AB</td>\n",
       "      <td>4</td>\n",
       "      <td>5</td>\n",
       "      <td>3</td>\n",
       "      <td>24</td>\n",
       "      <td>16.0</td>\n",
       "    </tr>\n",
       "  </tbody>\n",
       "</table>\n",
       "<p>1053 rows × 16 columns</p>\n",
       "</div>"
      ],
      "text/plain": [
       "      SNO.  ROLL NUMBER Q1 (5) Q2 (5) Q3 (5) Q4 (5) Q5 (5) Q6 (5) Q7 (5)  \\\n",
       "0        1    102003733     AB     AB     AB     AB     AB     AB      3   \n",
       "1        2    102203002      5     AB      4      4      4      4      4   \n",
       "2        3    102203003      5      4      4      4      4      5      4   \n",
       "3        4    102203005     AB     AB     AB     AB      3      5      3   \n",
       "4        5    102203007     AB     AB     AB      5      4      3      3   \n",
       "...    ...          ...    ...    ...    ...    ...    ...    ...    ...   \n",
       "1048  1049    102383062      5      4     AB      5      3      4     AB   \n",
       "1049  1050    102383067      5      2      3      4      3      5      2   \n",
       "1050  1051    102383071      5      3      5      4      3      3      4   \n",
       "1051  1052    102383081      5      3      3     AB      4     AB     AB   \n",
       "1052  1053    102383083     AB     AB      3     AB      5     AB      4   \n",
       "\n",
       "     Q8 (5) Q9 (5) Q10 (5) Q11 (5) Q12 (5)  Top 9 (out of 45)  Out of 30  \n",
       "0         5     AB      AB      AB       4                 12        8.0  \n",
       "1         3      5       5       5       3                 40       26.7  \n",
       "2         3      4       5       4       2                 39       26.0  \n",
       "3         4      4       5       5      AB                 29       19.3  \n",
       "4         5      3       5       5       3                 36       24.0  \n",
       "...     ...    ...     ...     ...     ...                ...        ...  \n",
       "1048      3      4       5       4       5                 39       26.0  \n",
       "1049      5     AB       5       5       5                 40       26.7  \n",
       "1050      5      4       5       5       5                 42       28.0  \n",
       "1051      5     AB       5       5       3                 33       22.0  \n",
       "1052     AB     AB       4       5       3                 24       16.0  \n",
       "\n",
       "[1053 rows x 16 columns]"
      ]
     },
     "execution_count": 26,
     "metadata": {},
     "output_type": "execute_result"
    }
   ],
   "source": [
    "df"
   ]
  },
  {
   "cell_type": "code",
   "execution_count": null,
   "id": "4e8a316b",
   "metadata": {
    "papermill": {
     "duration": 0.011279,
     "end_time": "2025-07-25T09:20:16.512359",
     "exception": false,
     "start_time": "2025-07-25T09:20:16.501080",
     "status": "completed"
    },
    "tags": []
   },
   "outputs": [],
   "source": [
    " "
   ]
  }
 ],
 "metadata": {
  "kaggle": {
   "accelerator": "none",
   "dataSources": [
    {
     "datasetId": 7889113,
     "sourceId": 12500232,
     "sourceType": "datasetVersion"
    }
   ],
   "dockerImageVersionId": 31089,
   "isGpuEnabled": false,
   "isInternetEnabled": true,
   "language": "python",
   "sourceType": "notebook"
  },
  "kernelspec": {
   "display_name": "Python 3",
   "language": "python",
   "name": "python3"
  },
  "language_info": {
   "codemirror_mode": {
    "name": "ipython",
    "version": 3
   },
   "file_extension": ".py",
   "mimetype": "text/x-python",
   "name": "python",
   "nbconvert_exporter": "python",
   "pygments_lexer": "ipython3",
   "version": "3.11.13"
  },
  "papermill": {
   "default_parameters": {},
   "duration": 12.533775,
   "end_time": "2025-07-25T09:20:17.447426",
   "environment_variables": {},
   "exception": null,
   "input_path": "__notebook__.ipynb",
   "output_path": "__notebook__.ipynb",
   "parameters": {},
   "start_time": "2025-07-25T09:20:04.913651",
   "version": "2.6.0"
  }
 },
 "nbformat": 4,
 "nbformat_minor": 5
}
