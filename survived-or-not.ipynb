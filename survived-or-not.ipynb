{
 "cells": [
  {
   "cell_type": "code",
   "execution_count": 1,
   "id": "600ee5e3",
   "metadata": {
    "_cell_guid": "b1076dfc-b9ad-4769-8c92-a6c4dae69d19",
    "_uuid": "8f2839f25d086af736a60e9eeb907d3b93b6e0e5",
    "execution": {
     "iopub.execute_input": "2024-05-01T23:01:44.147360Z",
     "iopub.status.busy": "2024-05-01T23:01:44.146931Z",
     "iopub.status.idle": "2024-05-01T23:01:45.216626Z",
     "shell.execute_reply": "2024-05-01T23:01:45.215199Z"
    },
    "papermill": {
     "duration": 1.089026,
     "end_time": "2024-05-01T23:01:45.219847",
     "exception": false,
     "start_time": "2024-05-01T23:01:44.130821",
     "status": "completed"
    },
    "tags": []
   },
   "outputs": [
    {
     "name": "stdout",
     "output_type": "stream",
     "text": [
      "/kaggle/input/spaceship-titanic/sample_submission.csv\n",
      "/kaggle/input/spaceship-titanic/train.csv\n",
      "/kaggle/input/spaceship-titanic/test.csv\n"
     ]
    }
   ],
   "source": [
    "# This Python 3 environment comes with many helpful analytics libraries installed\n",
    "# It is defined by the kaggle/python Docker image: https://github.com/kaggle/docker-python\n",
    "# For example, here's several helpful packages to load\n",
    "\n",
    "import numpy as np # linear algebra\n",
    "import pandas as pd # data processing, CSV file I/O (e.g. pd.read_csv)\n",
    "\n",
    "# Input data files are available in the read-only \"../input/\" directory\n",
    "# For example, running this (by clicking run or pressing Shift+Enter) will list all files under the input directory\n",
    "\n",
    "import os\n",
    "for dirname, _, filenames in os.walk('/kaggle/input'):\n",
    "    for filename in filenames:\n",
    "        print(os.path.join(dirname, filename))\n",
    "\n",
    "# You can write up to 20GB to the current directory (/kaggle/working/) that gets preserved as output when you create a version using \"Save & Run All\" \n",
    "# You can also write temporary files to /kaggle/temp/, but they won't be saved outside of the current session"
   ]
  },
  {
   "cell_type": "code",
   "execution_count": 2,
   "id": "e6f5008f",
   "metadata": {
    "execution": {
     "iopub.execute_input": "2024-05-01T23:01:45.249197Z",
     "iopub.status.busy": "2024-05-01T23:01:45.248607Z",
     "iopub.status.idle": "2024-05-01T23:01:45.347216Z",
     "shell.execute_reply": "2024-05-01T23:01:45.345855Z"
    },
    "papermill": {
     "duration": 0.116742,
     "end_time": "2024-05-01T23:01:45.350336",
     "exception": false,
     "start_time": "2024-05-01T23:01:45.233594",
     "status": "completed"
    },
    "tags": []
   },
   "outputs": [],
   "source": [
    "df_train = pd.read_csv('/kaggle/input/spaceship-titanic/train.csv')\n",
    "df_test = pd.read_csv('/kaggle/input/spaceship-titanic/test.csv')"
   ]
  },
  {
   "cell_type": "code",
   "execution_count": 3,
   "id": "f09def40",
   "metadata": {
    "execution": {
     "iopub.execute_input": "2024-05-01T23:01:45.380865Z",
     "iopub.status.busy": "2024-05-01T23:01:45.380436Z",
     "iopub.status.idle": "2024-05-01T23:01:45.431236Z",
     "shell.execute_reply": "2024-05-01T23:01:45.429948Z"
    },
    "papermill": {
     "duration": 0.069479,
     "end_time": "2024-05-01T23:01:45.433925",
     "exception": false,
     "start_time": "2024-05-01T23:01:45.364446",
     "status": "completed"
    },
    "tags": []
   },
   "outputs": [
    {
     "data": {
      "text/html": [
       "<div>\n",
       "<style scoped>\n",
       "    .dataframe tbody tr th:only-of-type {\n",
       "        vertical-align: middle;\n",
       "    }\n",
       "\n",
       "    .dataframe tbody tr th {\n",
       "        vertical-align: top;\n",
       "    }\n",
       "\n",
       "    .dataframe thead th {\n",
       "        text-align: right;\n",
       "    }\n",
       "</style>\n",
       "<table border=\"1\" class=\"dataframe\">\n",
       "  <thead>\n",
       "    <tr style=\"text-align: right;\">\n",
       "      <th></th>\n",
       "      <th>PassengerId</th>\n",
       "      <th>HomePlanet</th>\n",
       "      <th>CryoSleep</th>\n",
       "      <th>Cabin</th>\n",
       "      <th>Destination</th>\n",
       "      <th>Age</th>\n",
       "      <th>VIP</th>\n",
       "      <th>RoomService</th>\n",
       "      <th>FoodCourt</th>\n",
       "      <th>ShoppingMall</th>\n",
       "      <th>Spa</th>\n",
       "      <th>VRDeck</th>\n",
       "      <th>Name</th>\n",
       "      <th>Transported</th>\n",
       "    </tr>\n",
       "  </thead>\n",
       "  <tbody>\n",
       "    <tr>\n",
       "      <th>0</th>\n",
       "      <td>0001_01</td>\n",
       "      <td>Europa</td>\n",
       "      <td>False</td>\n",
       "      <td>B/0/P</td>\n",
       "      <td>TRAPPIST-1e</td>\n",
       "      <td>39.0</td>\n",
       "      <td>False</td>\n",
       "      <td>0.0</td>\n",
       "      <td>0.0</td>\n",
       "      <td>0.0</td>\n",
       "      <td>0.0</td>\n",
       "      <td>0.0</td>\n",
       "      <td>Maham Ofracculy</td>\n",
       "      <td>False</td>\n",
       "    </tr>\n",
       "    <tr>\n",
       "      <th>1</th>\n",
       "      <td>0002_01</td>\n",
       "      <td>Earth</td>\n",
       "      <td>False</td>\n",
       "      <td>F/0/S</td>\n",
       "      <td>TRAPPIST-1e</td>\n",
       "      <td>24.0</td>\n",
       "      <td>False</td>\n",
       "      <td>109.0</td>\n",
       "      <td>9.0</td>\n",
       "      <td>25.0</td>\n",
       "      <td>549.0</td>\n",
       "      <td>44.0</td>\n",
       "      <td>Juanna Vines</td>\n",
       "      <td>True</td>\n",
       "    </tr>\n",
       "    <tr>\n",
       "      <th>2</th>\n",
       "      <td>0003_01</td>\n",
       "      <td>Europa</td>\n",
       "      <td>False</td>\n",
       "      <td>A/0/S</td>\n",
       "      <td>TRAPPIST-1e</td>\n",
       "      <td>58.0</td>\n",
       "      <td>True</td>\n",
       "      <td>43.0</td>\n",
       "      <td>3576.0</td>\n",
       "      <td>0.0</td>\n",
       "      <td>6715.0</td>\n",
       "      <td>49.0</td>\n",
       "      <td>Altark Susent</td>\n",
       "      <td>False</td>\n",
       "    </tr>\n",
       "    <tr>\n",
       "      <th>3</th>\n",
       "      <td>0003_02</td>\n",
       "      <td>Europa</td>\n",
       "      <td>False</td>\n",
       "      <td>A/0/S</td>\n",
       "      <td>TRAPPIST-1e</td>\n",
       "      <td>33.0</td>\n",
       "      <td>False</td>\n",
       "      <td>0.0</td>\n",
       "      <td>1283.0</td>\n",
       "      <td>371.0</td>\n",
       "      <td>3329.0</td>\n",
       "      <td>193.0</td>\n",
       "      <td>Solam Susent</td>\n",
       "      <td>False</td>\n",
       "    </tr>\n",
       "    <tr>\n",
       "      <th>4</th>\n",
       "      <td>0004_01</td>\n",
       "      <td>Earth</td>\n",
       "      <td>False</td>\n",
       "      <td>F/1/S</td>\n",
       "      <td>TRAPPIST-1e</td>\n",
       "      <td>16.0</td>\n",
       "      <td>False</td>\n",
       "      <td>303.0</td>\n",
       "      <td>70.0</td>\n",
       "      <td>151.0</td>\n",
       "      <td>565.0</td>\n",
       "      <td>2.0</td>\n",
       "      <td>Willy Santantines</td>\n",
       "      <td>True</td>\n",
       "    </tr>\n",
       "    <tr>\n",
       "      <th>...</th>\n",
       "      <td>...</td>\n",
       "      <td>...</td>\n",
       "      <td>...</td>\n",
       "      <td>...</td>\n",
       "      <td>...</td>\n",
       "      <td>...</td>\n",
       "      <td>...</td>\n",
       "      <td>...</td>\n",
       "      <td>...</td>\n",
       "      <td>...</td>\n",
       "      <td>...</td>\n",
       "      <td>...</td>\n",
       "      <td>...</td>\n",
       "      <td>...</td>\n",
       "    </tr>\n",
       "    <tr>\n",
       "      <th>8688</th>\n",
       "      <td>9276_01</td>\n",
       "      <td>Europa</td>\n",
       "      <td>False</td>\n",
       "      <td>A/98/P</td>\n",
       "      <td>55 Cancri e</td>\n",
       "      <td>41.0</td>\n",
       "      <td>True</td>\n",
       "      <td>0.0</td>\n",
       "      <td>6819.0</td>\n",
       "      <td>0.0</td>\n",
       "      <td>1643.0</td>\n",
       "      <td>74.0</td>\n",
       "      <td>Gravior Noxnuther</td>\n",
       "      <td>False</td>\n",
       "    </tr>\n",
       "    <tr>\n",
       "      <th>8689</th>\n",
       "      <td>9278_01</td>\n",
       "      <td>Earth</td>\n",
       "      <td>True</td>\n",
       "      <td>G/1499/S</td>\n",
       "      <td>PSO J318.5-22</td>\n",
       "      <td>18.0</td>\n",
       "      <td>False</td>\n",
       "      <td>0.0</td>\n",
       "      <td>0.0</td>\n",
       "      <td>0.0</td>\n",
       "      <td>0.0</td>\n",
       "      <td>0.0</td>\n",
       "      <td>Kurta Mondalley</td>\n",
       "      <td>False</td>\n",
       "    </tr>\n",
       "    <tr>\n",
       "      <th>8690</th>\n",
       "      <td>9279_01</td>\n",
       "      <td>Earth</td>\n",
       "      <td>False</td>\n",
       "      <td>G/1500/S</td>\n",
       "      <td>TRAPPIST-1e</td>\n",
       "      <td>26.0</td>\n",
       "      <td>False</td>\n",
       "      <td>0.0</td>\n",
       "      <td>0.0</td>\n",
       "      <td>1872.0</td>\n",
       "      <td>1.0</td>\n",
       "      <td>0.0</td>\n",
       "      <td>Fayey Connon</td>\n",
       "      <td>True</td>\n",
       "    </tr>\n",
       "    <tr>\n",
       "      <th>8691</th>\n",
       "      <td>9280_01</td>\n",
       "      <td>Europa</td>\n",
       "      <td>False</td>\n",
       "      <td>E/608/S</td>\n",
       "      <td>55 Cancri e</td>\n",
       "      <td>32.0</td>\n",
       "      <td>False</td>\n",
       "      <td>0.0</td>\n",
       "      <td>1049.0</td>\n",
       "      <td>0.0</td>\n",
       "      <td>353.0</td>\n",
       "      <td>3235.0</td>\n",
       "      <td>Celeon Hontichre</td>\n",
       "      <td>False</td>\n",
       "    </tr>\n",
       "    <tr>\n",
       "      <th>8692</th>\n",
       "      <td>9280_02</td>\n",
       "      <td>Europa</td>\n",
       "      <td>False</td>\n",
       "      <td>E/608/S</td>\n",
       "      <td>TRAPPIST-1e</td>\n",
       "      <td>44.0</td>\n",
       "      <td>False</td>\n",
       "      <td>126.0</td>\n",
       "      <td>4688.0</td>\n",
       "      <td>0.0</td>\n",
       "      <td>0.0</td>\n",
       "      <td>12.0</td>\n",
       "      <td>Propsh Hontichre</td>\n",
       "      <td>True</td>\n",
       "    </tr>\n",
       "  </tbody>\n",
       "</table>\n",
       "<p>8693 rows × 14 columns</p>\n",
       "</div>"
      ],
      "text/plain": [
       "     PassengerId HomePlanet CryoSleep     Cabin    Destination   Age    VIP  \\\n",
       "0        0001_01     Europa     False     B/0/P    TRAPPIST-1e  39.0  False   \n",
       "1        0002_01      Earth     False     F/0/S    TRAPPIST-1e  24.0  False   \n",
       "2        0003_01     Europa     False     A/0/S    TRAPPIST-1e  58.0   True   \n",
       "3        0003_02     Europa     False     A/0/S    TRAPPIST-1e  33.0  False   \n",
       "4        0004_01      Earth     False     F/1/S    TRAPPIST-1e  16.0  False   \n",
       "...          ...        ...       ...       ...            ...   ...    ...   \n",
       "8688     9276_01     Europa     False    A/98/P    55 Cancri e  41.0   True   \n",
       "8689     9278_01      Earth      True  G/1499/S  PSO J318.5-22  18.0  False   \n",
       "8690     9279_01      Earth     False  G/1500/S    TRAPPIST-1e  26.0  False   \n",
       "8691     9280_01     Europa     False   E/608/S    55 Cancri e  32.0  False   \n",
       "8692     9280_02     Europa     False   E/608/S    TRAPPIST-1e  44.0  False   \n",
       "\n",
       "      RoomService  FoodCourt  ShoppingMall     Spa  VRDeck               Name  \\\n",
       "0             0.0        0.0           0.0     0.0     0.0    Maham Ofracculy   \n",
       "1           109.0        9.0          25.0   549.0    44.0       Juanna Vines   \n",
       "2            43.0     3576.0           0.0  6715.0    49.0      Altark Susent   \n",
       "3             0.0     1283.0         371.0  3329.0   193.0       Solam Susent   \n",
       "4           303.0       70.0         151.0   565.0     2.0  Willy Santantines   \n",
       "...           ...        ...           ...     ...     ...                ...   \n",
       "8688          0.0     6819.0           0.0  1643.0    74.0  Gravior Noxnuther   \n",
       "8689          0.0        0.0           0.0     0.0     0.0    Kurta Mondalley   \n",
       "8690          0.0        0.0        1872.0     1.0     0.0       Fayey Connon   \n",
       "8691          0.0     1049.0           0.0   353.0  3235.0   Celeon Hontichre   \n",
       "8692        126.0     4688.0           0.0     0.0    12.0   Propsh Hontichre   \n",
       "\n",
       "      Transported  \n",
       "0           False  \n",
       "1            True  \n",
       "2           False  \n",
       "3           False  \n",
       "4            True  \n",
       "...           ...  \n",
       "8688        False  \n",
       "8689        False  \n",
       "8690         True  \n",
       "8691        False  \n",
       "8692         True  \n",
       "\n",
       "[8693 rows x 14 columns]"
      ]
     },
     "execution_count": 3,
     "metadata": {},
     "output_type": "execute_result"
    }
   ],
   "source": [
    "df_train"
   ]
  },
  {
   "cell_type": "code",
   "execution_count": 4,
   "id": "3cf6041c",
   "metadata": {
    "execution": {
     "iopub.execute_input": "2024-05-01T23:01:45.466423Z",
     "iopub.status.busy": "2024-05-01T23:01:45.465659Z",
     "iopub.status.idle": "2024-05-01T23:01:45.492753Z",
     "shell.execute_reply": "2024-05-01T23:01:45.491353Z"
    },
    "papermill": {
     "duration": 0.046797,
     "end_time": "2024-05-01T23:01:45.495406",
     "exception": false,
     "start_time": "2024-05-01T23:01:45.448609",
     "status": "completed"
    },
    "tags": []
   },
   "outputs": [
    {
     "data": {
      "text/html": [
       "<div>\n",
       "<style scoped>\n",
       "    .dataframe tbody tr th:only-of-type {\n",
       "        vertical-align: middle;\n",
       "    }\n",
       "\n",
       "    .dataframe tbody tr th {\n",
       "        vertical-align: top;\n",
       "    }\n",
       "\n",
       "    .dataframe thead th {\n",
       "        text-align: right;\n",
       "    }\n",
       "</style>\n",
       "<table border=\"1\" class=\"dataframe\">\n",
       "  <thead>\n",
       "    <tr style=\"text-align: right;\">\n",
       "      <th></th>\n",
       "      <th>PassengerId</th>\n",
       "      <th>HomePlanet</th>\n",
       "      <th>CryoSleep</th>\n",
       "      <th>Cabin</th>\n",
       "      <th>Destination</th>\n",
       "      <th>Age</th>\n",
       "      <th>VIP</th>\n",
       "      <th>RoomService</th>\n",
       "      <th>FoodCourt</th>\n",
       "      <th>ShoppingMall</th>\n",
       "      <th>Spa</th>\n",
       "      <th>VRDeck</th>\n",
       "      <th>Name</th>\n",
       "    </tr>\n",
       "  </thead>\n",
       "  <tbody>\n",
       "    <tr>\n",
       "      <th>0</th>\n",
       "      <td>0013_01</td>\n",
       "      <td>Earth</td>\n",
       "      <td>True</td>\n",
       "      <td>G/3/S</td>\n",
       "      <td>TRAPPIST-1e</td>\n",
       "      <td>27.0</td>\n",
       "      <td>False</td>\n",
       "      <td>0.0</td>\n",
       "      <td>0.0</td>\n",
       "      <td>0.0</td>\n",
       "      <td>0.0</td>\n",
       "      <td>0.0</td>\n",
       "      <td>Nelly Carsoning</td>\n",
       "    </tr>\n",
       "    <tr>\n",
       "      <th>1</th>\n",
       "      <td>0018_01</td>\n",
       "      <td>Earth</td>\n",
       "      <td>False</td>\n",
       "      <td>F/4/S</td>\n",
       "      <td>TRAPPIST-1e</td>\n",
       "      <td>19.0</td>\n",
       "      <td>False</td>\n",
       "      <td>0.0</td>\n",
       "      <td>9.0</td>\n",
       "      <td>0.0</td>\n",
       "      <td>2823.0</td>\n",
       "      <td>0.0</td>\n",
       "      <td>Lerome Peckers</td>\n",
       "    </tr>\n",
       "    <tr>\n",
       "      <th>2</th>\n",
       "      <td>0019_01</td>\n",
       "      <td>Europa</td>\n",
       "      <td>True</td>\n",
       "      <td>C/0/S</td>\n",
       "      <td>55 Cancri e</td>\n",
       "      <td>31.0</td>\n",
       "      <td>False</td>\n",
       "      <td>0.0</td>\n",
       "      <td>0.0</td>\n",
       "      <td>0.0</td>\n",
       "      <td>0.0</td>\n",
       "      <td>0.0</td>\n",
       "      <td>Sabih Unhearfus</td>\n",
       "    </tr>\n",
       "    <tr>\n",
       "      <th>3</th>\n",
       "      <td>0021_01</td>\n",
       "      <td>Europa</td>\n",
       "      <td>False</td>\n",
       "      <td>C/1/S</td>\n",
       "      <td>TRAPPIST-1e</td>\n",
       "      <td>38.0</td>\n",
       "      <td>False</td>\n",
       "      <td>0.0</td>\n",
       "      <td>6652.0</td>\n",
       "      <td>0.0</td>\n",
       "      <td>181.0</td>\n",
       "      <td>585.0</td>\n",
       "      <td>Meratz Caltilter</td>\n",
       "    </tr>\n",
       "    <tr>\n",
       "      <th>4</th>\n",
       "      <td>0023_01</td>\n",
       "      <td>Earth</td>\n",
       "      <td>False</td>\n",
       "      <td>F/5/S</td>\n",
       "      <td>TRAPPIST-1e</td>\n",
       "      <td>20.0</td>\n",
       "      <td>False</td>\n",
       "      <td>10.0</td>\n",
       "      <td>0.0</td>\n",
       "      <td>635.0</td>\n",
       "      <td>0.0</td>\n",
       "      <td>0.0</td>\n",
       "      <td>Brence Harperez</td>\n",
       "    </tr>\n",
       "    <tr>\n",
       "      <th>...</th>\n",
       "      <td>...</td>\n",
       "      <td>...</td>\n",
       "      <td>...</td>\n",
       "      <td>...</td>\n",
       "      <td>...</td>\n",
       "      <td>...</td>\n",
       "      <td>...</td>\n",
       "      <td>...</td>\n",
       "      <td>...</td>\n",
       "      <td>...</td>\n",
       "      <td>...</td>\n",
       "      <td>...</td>\n",
       "      <td>...</td>\n",
       "    </tr>\n",
       "    <tr>\n",
       "      <th>4272</th>\n",
       "      <td>9266_02</td>\n",
       "      <td>Earth</td>\n",
       "      <td>True</td>\n",
       "      <td>G/1496/S</td>\n",
       "      <td>TRAPPIST-1e</td>\n",
       "      <td>34.0</td>\n",
       "      <td>False</td>\n",
       "      <td>0.0</td>\n",
       "      <td>0.0</td>\n",
       "      <td>0.0</td>\n",
       "      <td>0.0</td>\n",
       "      <td>0.0</td>\n",
       "      <td>Jeron Peter</td>\n",
       "    </tr>\n",
       "    <tr>\n",
       "      <th>4273</th>\n",
       "      <td>9269_01</td>\n",
       "      <td>Earth</td>\n",
       "      <td>False</td>\n",
       "      <td>NaN</td>\n",
       "      <td>TRAPPIST-1e</td>\n",
       "      <td>42.0</td>\n",
       "      <td>False</td>\n",
       "      <td>0.0</td>\n",
       "      <td>847.0</td>\n",
       "      <td>17.0</td>\n",
       "      <td>10.0</td>\n",
       "      <td>144.0</td>\n",
       "      <td>Matty Scheron</td>\n",
       "    </tr>\n",
       "    <tr>\n",
       "      <th>4274</th>\n",
       "      <td>9271_01</td>\n",
       "      <td>Mars</td>\n",
       "      <td>True</td>\n",
       "      <td>D/296/P</td>\n",
       "      <td>55 Cancri e</td>\n",
       "      <td>NaN</td>\n",
       "      <td>False</td>\n",
       "      <td>0.0</td>\n",
       "      <td>0.0</td>\n",
       "      <td>0.0</td>\n",
       "      <td>0.0</td>\n",
       "      <td>0.0</td>\n",
       "      <td>Jayrin Pore</td>\n",
       "    </tr>\n",
       "    <tr>\n",
       "      <th>4275</th>\n",
       "      <td>9273_01</td>\n",
       "      <td>Europa</td>\n",
       "      <td>False</td>\n",
       "      <td>D/297/P</td>\n",
       "      <td>NaN</td>\n",
       "      <td>NaN</td>\n",
       "      <td>False</td>\n",
       "      <td>0.0</td>\n",
       "      <td>2680.0</td>\n",
       "      <td>0.0</td>\n",
       "      <td>0.0</td>\n",
       "      <td>523.0</td>\n",
       "      <td>Kitakan Conale</td>\n",
       "    </tr>\n",
       "    <tr>\n",
       "      <th>4276</th>\n",
       "      <td>9277_01</td>\n",
       "      <td>Earth</td>\n",
       "      <td>True</td>\n",
       "      <td>G/1498/S</td>\n",
       "      <td>PSO J318.5-22</td>\n",
       "      <td>43.0</td>\n",
       "      <td>False</td>\n",
       "      <td>0.0</td>\n",
       "      <td>0.0</td>\n",
       "      <td>0.0</td>\n",
       "      <td>0.0</td>\n",
       "      <td>0.0</td>\n",
       "      <td>Lilace Leonzaley</td>\n",
       "    </tr>\n",
       "  </tbody>\n",
       "</table>\n",
       "<p>4277 rows × 13 columns</p>\n",
       "</div>"
      ],
      "text/plain": [
       "     PassengerId HomePlanet CryoSleep     Cabin    Destination   Age    VIP  \\\n",
       "0        0013_01      Earth      True     G/3/S    TRAPPIST-1e  27.0  False   \n",
       "1        0018_01      Earth     False     F/4/S    TRAPPIST-1e  19.0  False   \n",
       "2        0019_01     Europa      True     C/0/S    55 Cancri e  31.0  False   \n",
       "3        0021_01     Europa     False     C/1/S    TRAPPIST-1e  38.0  False   \n",
       "4        0023_01      Earth     False     F/5/S    TRAPPIST-1e  20.0  False   \n",
       "...          ...        ...       ...       ...            ...   ...    ...   \n",
       "4272     9266_02      Earth      True  G/1496/S    TRAPPIST-1e  34.0  False   \n",
       "4273     9269_01      Earth     False       NaN    TRAPPIST-1e  42.0  False   \n",
       "4274     9271_01       Mars      True   D/296/P    55 Cancri e   NaN  False   \n",
       "4275     9273_01     Europa     False   D/297/P            NaN   NaN  False   \n",
       "4276     9277_01      Earth      True  G/1498/S  PSO J318.5-22  43.0  False   \n",
       "\n",
       "      RoomService  FoodCourt  ShoppingMall     Spa  VRDeck              Name  \n",
       "0             0.0        0.0           0.0     0.0     0.0   Nelly Carsoning  \n",
       "1             0.0        9.0           0.0  2823.0     0.0    Lerome Peckers  \n",
       "2             0.0        0.0           0.0     0.0     0.0   Sabih Unhearfus  \n",
       "3             0.0     6652.0           0.0   181.0   585.0  Meratz Caltilter  \n",
       "4            10.0        0.0         635.0     0.0     0.0   Brence Harperez  \n",
       "...           ...        ...           ...     ...     ...               ...  \n",
       "4272          0.0        0.0           0.0     0.0     0.0       Jeron Peter  \n",
       "4273          0.0      847.0          17.0    10.0   144.0     Matty Scheron  \n",
       "4274          0.0        0.0           0.0     0.0     0.0       Jayrin Pore  \n",
       "4275          0.0     2680.0           0.0     0.0   523.0    Kitakan Conale  \n",
       "4276          0.0        0.0           0.0     0.0     0.0  Lilace Leonzaley  \n",
       "\n",
       "[4277 rows x 13 columns]"
      ]
     },
     "execution_count": 4,
     "metadata": {},
     "output_type": "execute_result"
    }
   ],
   "source": [
    "df_test"
   ]
  },
  {
   "cell_type": "code",
   "execution_count": 5,
   "id": "f834756f",
   "metadata": {
    "execution": {
     "iopub.execute_input": "2024-05-01T23:01:45.526334Z",
     "iopub.status.busy": "2024-05-01T23:01:45.525623Z",
     "iopub.status.idle": "2024-05-01T23:01:45.540126Z",
     "shell.execute_reply": "2024-05-01T23:01:45.539109Z"
    },
    "papermill": {
     "duration": 0.032906,
     "end_time": "2024-05-01T23:01:45.542717",
     "exception": false,
     "start_time": "2024-05-01T23:01:45.509811",
     "status": "completed"
    },
    "tags": []
   },
   "outputs": [
    {
     "data": {
      "text/plain": [
       "PassengerId       0\n",
       "HomePlanet       87\n",
       "CryoSleep        93\n",
       "Cabin           100\n",
       "Destination      92\n",
       "Age              91\n",
       "VIP              93\n",
       "RoomService      82\n",
       "FoodCourt       106\n",
       "ShoppingMall     98\n",
       "Spa             101\n",
       "VRDeck           80\n",
       "Name             94\n",
       "dtype: int64"
      ]
     },
     "execution_count": 5,
     "metadata": {},
     "output_type": "execute_result"
    }
   ],
   "source": [
    "count2= df_test.isna().sum()\n",
    "count2"
   ]
  },
  {
   "cell_type": "code",
   "execution_count": 6,
   "id": "4c7ae738",
   "metadata": {
    "execution": {
     "iopub.execute_input": "2024-05-01T23:01:45.573970Z",
     "iopub.status.busy": "2024-05-01T23:01:45.572964Z",
     "iopub.status.idle": "2024-05-01T23:01:45.590862Z",
     "shell.execute_reply": "2024-05-01T23:01:45.589511Z"
    },
    "papermill": {
     "duration": 0.03625,
     "end_time": "2024-05-01T23:01:45.593441",
     "exception": false,
     "start_time": "2024-05-01T23:01:45.557191",
     "status": "completed"
    },
    "tags": []
   },
   "outputs": [
    {
     "data": {
      "text/plain": [
       "PassengerId       0\n",
       "HomePlanet      201\n",
       "CryoSleep       217\n",
       "Cabin           199\n",
       "Destination     182\n",
       "Age             179\n",
       "VIP             203\n",
       "RoomService     181\n",
       "FoodCourt       183\n",
       "ShoppingMall    208\n",
       "Spa             183\n",
       "VRDeck          188\n",
       "Name            200\n",
       "Transported       0\n",
       "dtype: int64"
      ]
     },
     "execution_count": 6,
     "metadata": {},
     "output_type": "execute_result"
    }
   ],
   "source": [
    "count= df_train.isna().sum()\n",
    "count"
   ]
  },
  {
   "cell_type": "code",
   "execution_count": 7,
   "id": "bb6cdf30",
   "metadata": {
    "execution": {
     "iopub.execute_input": "2024-05-01T23:01:45.624644Z",
     "iopub.status.busy": "2024-05-01T23:01:45.624220Z",
     "iopub.status.idle": "2024-05-01T23:01:45.631646Z",
     "shell.execute_reply": "2024-05-01T23:01:45.630366Z"
    },
    "papermill": {
     "duration": 0.026028,
     "end_time": "2024-05-01T23:01:45.634030",
     "exception": false,
     "start_time": "2024-05-01T23:01:45.608002",
     "status": "completed"
    },
    "tags": []
   },
   "outputs": [
    {
     "data": {
      "text/plain": [
       "(4277, 13)"
      ]
     },
     "execution_count": 7,
     "metadata": {},
     "output_type": "execute_result"
    }
   ],
   "source": [
    "df_test.shape"
   ]
  },
  {
   "cell_type": "code",
   "execution_count": 8,
   "id": "e7916932",
   "metadata": {
    "execution": {
     "iopub.execute_input": "2024-05-01T23:01:45.666809Z",
     "iopub.status.busy": "2024-05-01T23:01:45.665686Z",
     "iopub.status.idle": "2024-05-01T23:01:45.689042Z",
     "shell.execute_reply": "2024-05-01T23:01:45.687374Z"
    },
    "papermill": {
     "duration": 0.042958,
     "end_time": "2024-05-01T23:01:45.691714",
     "exception": false,
     "start_time": "2024-05-01T23:01:45.648756",
     "status": "completed"
    },
    "tags": []
   },
   "outputs": [],
   "source": [
    "columns = ['HomePlanet','VIP','CryoSleep','Cabin','Destination','RoomService', 'FoodCourt', 'ShoppingMall', 'Spa', 'VRDeck']\n",
    "df_train.dropna(subset=columns,how='any',inplace=True)\n",
    "df_test.dropna(subset=columns,how='any',inplace=True)"
   ]
  },
  {
   "cell_type": "code",
   "execution_count": 9,
   "id": "6c0fc99c",
   "metadata": {
    "execution": {
     "iopub.execute_input": "2024-05-01T23:01:45.723645Z",
     "iopub.status.busy": "2024-05-01T23:01:45.723186Z",
     "iopub.status.idle": "2024-05-01T23:01:45.730869Z",
     "shell.execute_reply": "2024-05-01T23:01:45.729584Z"
    },
    "papermill": {
     "duration": 0.027122,
     "end_time": "2024-05-01T23:01:45.733583",
     "exception": false,
     "start_time": "2024-05-01T23:01:45.706461",
     "status": "completed"
    },
    "tags": []
   },
   "outputs": [
    {
     "data": {
      "text/plain": [
       "(3424, 13)"
      ]
     },
     "execution_count": 9,
     "metadata": {},
     "output_type": "execute_result"
    }
   ],
   "source": [
    "df_test.shape"
   ]
  },
  {
   "cell_type": "code",
   "execution_count": 10,
   "id": "257fb764",
   "metadata": {
    "execution": {
     "iopub.execute_input": "2024-05-01T23:01:45.766189Z",
     "iopub.status.busy": "2024-05-01T23:01:45.765113Z",
     "iopub.status.idle": "2024-05-01T23:01:45.785561Z",
     "shell.execute_reply": "2024-05-01T23:01:45.784472Z"
    },
    "papermill": {
     "duration": 0.039374,
     "end_time": "2024-05-01T23:01:45.787867",
     "exception": false,
     "start_time": "2024-05-01T23:01:45.748493",
     "status": "completed"
    },
    "tags": []
   },
   "outputs": [
    {
     "data": {
      "text/plain": [
       "PassengerId      0\n",
       "HomePlanet       0\n",
       "CryoSleep        0\n",
       "Cabin            0\n",
       "Destination      0\n",
       "Age             69\n",
       "VIP              0\n",
       "RoomService      0\n",
       "FoodCourt        0\n",
       "ShoppingMall     0\n",
       "Spa              0\n",
       "VRDeck           0\n",
       "Name            75\n",
       "dtype: int64"
      ]
     },
     "execution_count": 10,
     "metadata": {},
     "output_type": "execute_result"
    }
   ],
   "source": [
    "count1 = df_train.isna().sum()\n",
    "count2 = df_test.isna().sum()\n",
    "\n",
    "\n",
    "count2"
   ]
  },
  {
   "cell_type": "code",
   "execution_count": 11,
   "id": "fb22665a",
   "metadata": {
    "execution": {
     "iopub.execute_input": "2024-05-01T23:01:45.820134Z",
     "iopub.status.busy": "2024-05-01T23:01:45.819676Z",
     "iopub.status.idle": "2024-05-01T23:01:47.657125Z",
     "shell.execute_reply": "2024-05-01T23:01:47.656032Z"
    },
    "papermill": {
     "duration": 1.85665,
     "end_time": "2024-05-01T23:01:47.659767",
     "exception": false,
     "start_time": "2024-05-01T23:01:45.803117",
     "status": "completed"
    },
    "tags": []
   },
   "outputs": [
    {
     "data": {
      "text/plain": [
       "0       39.0\n",
       "1       24.0\n",
       "2       58.0\n",
       "3       33.0\n",
       "4       16.0\n",
       "        ... \n",
       "8688    41.0\n",
       "8689    18.0\n",
       "8690    26.0\n",
       "8691    32.0\n",
       "8692    44.0\n",
       "Name: Age, Length: 6917, dtype: float64"
      ]
     },
     "execution_count": 11,
     "metadata": {},
     "output_type": "execute_result"
    }
   ],
   "source": [
    "from sklearn.impute import SimpleImputer\n",
    "imputer = SimpleImputer(strategy = 'mean')\n",
    "df_train['Age'] = imputer.fit_transform(df_train[['Age']])\n",
    "df_test['Age'] = imputer.fit_transform(df_test[['Age']])\n",
    "\n",
    "df_train['Age']"
   ]
  },
  {
   "cell_type": "code",
   "execution_count": 12,
   "id": "c3a3cfaa",
   "metadata": {
    "execution": {
     "iopub.execute_input": "2024-05-01T23:01:47.693054Z",
     "iopub.status.busy": "2024-05-01T23:01:47.691986Z",
     "iopub.status.idle": "2024-05-01T23:01:47.703827Z",
     "shell.execute_reply": "2024-05-01T23:01:47.702801Z"
    },
    "papermill": {
     "duration": 0.03117,
     "end_time": "2024-05-01T23:01:47.706404",
     "exception": false,
     "start_time": "2024-05-01T23:01:47.675234",
     "status": "completed"
    },
    "tags": []
   },
   "outputs": [
    {
     "data": {
      "text/plain": [
       "(3424, 12)"
      ]
     },
     "execution_count": 12,
     "metadata": {},
     "output_type": "execute_result"
    }
   ],
   "source": [
    "df_train = df_train.drop(columns=['Name'],axis=1)\n",
    "df_test = df_test.drop(columns=['Name'],axis=1)\n",
    "df_test.shape"
   ]
  },
  {
   "cell_type": "code",
   "execution_count": 13,
   "id": "923bc62c",
   "metadata": {
    "execution": {
     "iopub.execute_input": "2024-05-01T23:01:47.740920Z",
     "iopub.status.busy": "2024-05-01T23:01:47.740396Z",
     "iopub.status.idle": "2024-05-01T23:01:47.751870Z",
     "shell.execute_reply": "2024-05-01T23:01:47.750055Z"
    },
    "papermill": {
     "duration": 0.031693,
     "end_time": "2024-05-01T23:01:47.754811",
     "exception": false,
     "start_time": "2024-05-01T23:01:47.723118",
     "status": "completed"
    },
    "tags": []
   },
   "outputs": [
    {
     "name": "stdout",
     "output_type": "stream",
     "text": [
      "PassengerId     0\n",
      "HomePlanet      0\n",
      "CryoSleep       0\n",
      "Cabin           0\n",
      "Destination     0\n",
      "Age             0\n",
      "VIP             0\n",
      "RoomService     0\n",
      "FoodCourt       0\n",
      "ShoppingMall    0\n",
      "Spa             0\n",
      "VRDeck          0\n",
      "dtype: int64\n"
     ]
    }
   ],
   "source": [
    "print(df_test.isna().sum())"
   ]
  },
  {
   "cell_type": "code",
   "execution_count": 14,
   "id": "2499c713",
   "metadata": {
    "execution": {
     "iopub.execute_input": "2024-05-01T23:01:47.787654Z",
     "iopub.status.busy": "2024-05-01T23:01:47.787194Z",
     "iopub.status.idle": "2024-05-01T23:01:47.821624Z",
     "shell.execute_reply": "2024-05-01T23:01:47.820335Z"
    },
    "papermill": {
     "duration": 0.054038,
     "end_time": "2024-05-01T23:01:47.824368",
     "exception": false,
     "start_time": "2024-05-01T23:01:47.770330",
     "status": "completed"
    },
    "tags": []
   },
   "outputs": [
    {
     "data": {
      "text/html": [
       "<div>\n",
       "<style scoped>\n",
       "    .dataframe tbody tr th:only-of-type {\n",
       "        vertical-align: middle;\n",
       "    }\n",
       "\n",
       "    .dataframe tbody tr th {\n",
       "        vertical-align: top;\n",
       "    }\n",
       "\n",
       "    .dataframe thead th {\n",
       "        text-align: right;\n",
       "    }\n",
       "</style>\n",
       "<table border=\"1\" class=\"dataframe\">\n",
       "  <thead>\n",
       "    <tr style=\"text-align: right;\">\n",
       "      <th></th>\n",
       "      <th>PassengerId</th>\n",
       "      <th>HomePlanet</th>\n",
       "      <th>CryoSleep</th>\n",
       "      <th>Cabin</th>\n",
       "      <th>Destination</th>\n",
       "      <th>Age</th>\n",
       "      <th>VIP</th>\n",
       "      <th>RoomService</th>\n",
       "      <th>FoodCourt</th>\n",
       "      <th>ShoppingMall</th>\n",
       "      <th>Spa</th>\n",
       "      <th>VRDeck</th>\n",
       "      <th>Transported</th>\n",
       "    </tr>\n",
       "  </thead>\n",
       "  <tbody>\n",
       "    <tr>\n",
       "      <th>0</th>\n",
       "      <td>0001_01</td>\n",
       "      <td>Europa</td>\n",
       "      <td>False</td>\n",
       "      <td>B/0/P</td>\n",
       "      <td>TRAPPIST-1e</td>\n",
       "      <td>39.0</td>\n",
       "      <td>False</td>\n",
       "      <td>0.0</td>\n",
       "      <td>0.0</td>\n",
       "      <td>0.0</td>\n",
       "      <td>0.0</td>\n",
       "      <td>0.0</td>\n",
       "      <td>False</td>\n",
       "    </tr>\n",
       "    <tr>\n",
       "      <th>1</th>\n",
       "      <td>0002_01</td>\n",
       "      <td>Earth</td>\n",
       "      <td>False</td>\n",
       "      <td>F/0/S</td>\n",
       "      <td>TRAPPIST-1e</td>\n",
       "      <td>24.0</td>\n",
       "      <td>False</td>\n",
       "      <td>109.0</td>\n",
       "      <td>9.0</td>\n",
       "      <td>25.0</td>\n",
       "      <td>549.0</td>\n",
       "      <td>44.0</td>\n",
       "      <td>True</td>\n",
       "    </tr>\n",
       "    <tr>\n",
       "      <th>2</th>\n",
       "      <td>0003_01</td>\n",
       "      <td>Europa</td>\n",
       "      <td>False</td>\n",
       "      <td>A/0/S</td>\n",
       "      <td>TRAPPIST-1e</td>\n",
       "      <td>58.0</td>\n",
       "      <td>True</td>\n",
       "      <td>43.0</td>\n",
       "      <td>3576.0</td>\n",
       "      <td>0.0</td>\n",
       "      <td>6715.0</td>\n",
       "      <td>49.0</td>\n",
       "      <td>False</td>\n",
       "    </tr>\n",
       "    <tr>\n",
       "      <th>3</th>\n",
       "      <td>0003_02</td>\n",
       "      <td>Europa</td>\n",
       "      <td>False</td>\n",
       "      <td>A/0/S</td>\n",
       "      <td>TRAPPIST-1e</td>\n",
       "      <td>33.0</td>\n",
       "      <td>False</td>\n",
       "      <td>0.0</td>\n",
       "      <td>1283.0</td>\n",
       "      <td>371.0</td>\n",
       "      <td>3329.0</td>\n",
       "      <td>193.0</td>\n",
       "      <td>False</td>\n",
       "    </tr>\n",
       "    <tr>\n",
       "      <th>4</th>\n",
       "      <td>0004_01</td>\n",
       "      <td>Earth</td>\n",
       "      <td>False</td>\n",
       "      <td>F/1/S</td>\n",
       "      <td>TRAPPIST-1e</td>\n",
       "      <td>16.0</td>\n",
       "      <td>False</td>\n",
       "      <td>303.0</td>\n",
       "      <td>70.0</td>\n",
       "      <td>151.0</td>\n",
       "      <td>565.0</td>\n",
       "      <td>2.0</td>\n",
       "      <td>True</td>\n",
       "    </tr>\n",
       "    <tr>\n",
       "      <th>...</th>\n",
       "      <td>...</td>\n",
       "      <td>...</td>\n",
       "      <td>...</td>\n",
       "      <td>...</td>\n",
       "      <td>...</td>\n",
       "      <td>...</td>\n",
       "      <td>...</td>\n",
       "      <td>...</td>\n",
       "      <td>...</td>\n",
       "      <td>...</td>\n",
       "      <td>...</td>\n",
       "      <td>...</td>\n",
       "      <td>...</td>\n",
       "    </tr>\n",
       "    <tr>\n",
       "      <th>8688</th>\n",
       "      <td>9276_01</td>\n",
       "      <td>Europa</td>\n",
       "      <td>False</td>\n",
       "      <td>A/98/P</td>\n",
       "      <td>55 Cancri e</td>\n",
       "      <td>41.0</td>\n",
       "      <td>True</td>\n",
       "      <td>0.0</td>\n",
       "      <td>6819.0</td>\n",
       "      <td>0.0</td>\n",
       "      <td>1643.0</td>\n",
       "      <td>74.0</td>\n",
       "      <td>False</td>\n",
       "    </tr>\n",
       "    <tr>\n",
       "      <th>8689</th>\n",
       "      <td>9278_01</td>\n",
       "      <td>Earth</td>\n",
       "      <td>True</td>\n",
       "      <td>G/1499/S</td>\n",
       "      <td>PSO J318.5-22</td>\n",
       "      <td>18.0</td>\n",
       "      <td>False</td>\n",
       "      <td>0.0</td>\n",
       "      <td>0.0</td>\n",
       "      <td>0.0</td>\n",
       "      <td>0.0</td>\n",
       "      <td>0.0</td>\n",
       "      <td>False</td>\n",
       "    </tr>\n",
       "    <tr>\n",
       "      <th>8690</th>\n",
       "      <td>9279_01</td>\n",
       "      <td>Earth</td>\n",
       "      <td>False</td>\n",
       "      <td>G/1500/S</td>\n",
       "      <td>TRAPPIST-1e</td>\n",
       "      <td>26.0</td>\n",
       "      <td>False</td>\n",
       "      <td>0.0</td>\n",
       "      <td>0.0</td>\n",
       "      <td>1872.0</td>\n",
       "      <td>1.0</td>\n",
       "      <td>0.0</td>\n",
       "      <td>True</td>\n",
       "    </tr>\n",
       "    <tr>\n",
       "      <th>8691</th>\n",
       "      <td>9280_01</td>\n",
       "      <td>Europa</td>\n",
       "      <td>False</td>\n",
       "      <td>E/608/S</td>\n",
       "      <td>55 Cancri e</td>\n",
       "      <td>32.0</td>\n",
       "      <td>False</td>\n",
       "      <td>0.0</td>\n",
       "      <td>1049.0</td>\n",
       "      <td>0.0</td>\n",
       "      <td>353.0</td>\n",
       "      <td>3235.0</td>\n",
       "      <td>False</td>\n",
       "    </tr>\n",
       "    <tr>\n",
       "      <th>8692</th>\n",
       "      <td>9280_02</td>\n",
       "      <td>Europa</td>\n",
       "      <td>False</td>\n",
       "      <td>E/608/S</td>\n",
       "      <td>TRAPPIST-1e</td>\n",
       "      <td>44.0</td>\n",
       "      <td>False</td>\n",
       "      <td>126.0</td>\n",
       "      <td>4688.0</td>\n",
       "      <td>0.0</td>\n",
       "      <td>0.0</td>\n",
       "      <td>12.0</td>\n",
       "      <td>True</td>\n",
       "    </tr>\n",
       "  </tbody>\n",
       "</table>\n",
       "<p>6917 rows × 13 columns</p>\n",
       "</div>"
      ],
      "text/plain": [
       "     PassengerId HomePlanet CryoSleep     Cabin    Destination   Age    VIP  \\\n",
       "0        0001_01     Europa     False     B/0/P    TRAPPIST-1e  39.0  False   \n",
       "1        0002_01      Earth     False     F/0/S    TRAPPIST-1e  24.0  False   \n",
       "2        0003_01     Europa     False     A/0/S    TRAPPIST-1e  58.0   True   \n",
       "3        0003_02     Europa     False     A/0/S    TRAPPIST-1e  33.0  False   \n",
       "4        0004_01      Earth     False     F/1/S    TRAPPIST-1e  16.0  False   \n",
       "...          ...        ...       ...       ...            ...   ...    ...   \n",
       "8688     9276_01     Europa     False    A/98/P    55 Cancri e  41.0   True   \n",
       "8689     9278_01      Earth      True  G/1499/S  PSO J318.5-22  18.0  False   \n",
       "8690     9279_01      Earth     False  G/1500/S    TRAPPIST-1e  26.0  False   \n",
       "8691     9280_01     Europa     False   E/608/S    55 Cancri e  32.0  False   \n",
       "8692     9280_02     Europa     False   E/608/S    TRAPPIST-1e  44.0  False   \n",
       "\n",
       "      RoomService  FoodCourt  ShoppingMall     Spa  VRDeck  Transported  \n",
       "0             0.0        0.0           0.0     0.0     0.0        False  \n",
       "1           109.0        9.0          25.0   549.0    44.0         True  \n",
       "2            43.0     3576.0           0.0  6715.0    49.0        False  \n",
       "3             0.0     1283.0         371.0  3329.0   193.0        False  \n",
       "4           303.0       70.0         151.0   565.0     2.0         True  \n",
       "...           ...        ...           ...     ...     ...          ...  \n",
       "8688          0.0     6819.0           0.0  1643.0    74.0        False  \n",
       "8689          0.0        0.0           0.0     0.0     0.0        False  \n",
       "8690          0.0        0.0        1872.0     1.0     0.0         True  \n",
       "8691          0.0     1049.0           0.0   353.0  3235.0        False  \n",
       "8692        126.0     4688.0           0.0     0.0    12.0         True  \n",
       "\n",
       "[6917 rows x 13 columns]"
      ]
     },
     "execution_count": 14,
     "metadata": {},
     "output_type": "execute_result"
    }
   ],
   "source": [
    "from sklearn.preprocessing import OneHotEncoder\n",
    "df_train\n",
    "#'HomePlanet','Cabin','Destination','Transported','VIP','CryoSleep'- have to be encoded\n",
    "#'Age','RoomService','FoodCourt','ShoppingMall','Spa','VRDeck' - direct conversion"
   ]
  },
  {
   "cell_type": "code",
   "execution_count": 15,
   "id": "6aafe13d",
   "metadata": {
    "execution": {
     "iopub.execute_input": "2024-05-01T23:01:47.871576Z",
     "iopub.status.busy": "2024-05-01T23:01:47.869623Z",
     "iopub.status.idle": "2024-05-01T23:01:48.688138Z",
     "shell.execute_reply": "2024-05-01T23:01:48.686586Z"
    },
    "papermill": {
     "duration": 0.846939,
     "end_time": "2024-05-01T23:01:48.691141",
     "exception": false,
     "start_time": "2024-05-01T23:01:47.844202",
     "status": "completed"
    },
    "tags": []
   },
   "outputs": [
    {
     "data": {
      "image/png": "[encoded data removed]",
      "text/plain": [
       "<Figure size 640x480 with 1 Axes>"
      ]
     },
     "metadata": {},
     "output_type": "display_data"
    },
    {
     "data": {
      "image/png": "[encoded data removed]",
      "text/plain": [
       "<Figure size 640x480 with 1 Axes>"
      ]
     },
     "metadata": {},
     "output_type": "display_data"
    }
   ],
   "source": [
    "import matplotlib.pyplot as plt\n",
    "pivot_df = df_train.pivot_table(index='VIP',columns='Transported',aggfunc='size',fill_value=0)\n",
    "#stacked plot\n",
    "ax=pivot_df.plot(kind='bar',stacked=True)\n",
    "for container in ax.containers:\n",
    "    ax.bar_label(container)\n",
    "plt.show()\n",
    "#grouped plot\n",
    "x=np.arange(len(pivot_df.index))\n",
    "bar_width = 0.2\n",
    "plt.bar(x-bar_width/2,pivot_df[True],width=bar_width,label='True')\n",
    "plt.bar(x+bar_width/2,pivot_df[False],width=bar_width,label='False')\n",
    "plt.xlabel('VIP')\n",
    "plt.ylabel('Count')\n",
    "plt.title('Grouped Bar Chart')\n",
    "plt.xticks(x,pivot_df.index)\n",
    "\n",
    "for i,val in enumerate(pivot_df[True]):\n",
    "    plt.text(i- bar_width/2 , val+1, str(val), ha='center', va='bottom')\n",
    "for i,val in enumerate(pivot_df[False]):\n",
    "    plt.text(i+ bar_width/2 , val+1, str(val), ha='center', va='bottom')\n",
    "    \n",
    "plt.legend()\n",
    "plt.show()"
   ]
  },
  {
   "cell_type": "code",
   "execution_count": 16,
   "id": "13402a09",
   "metadata": {
    "execution": {
     "iopub.execute_input": "2024-05-01T23:01:48.731123Z",
     "iopub.status.busy": "2024-05-01T23:01:48.730708Z",
     "iopub.status.idle": "2024-05-01T23:01:49.058540Z",
     "shell.execute_reply": "2024-05-01T23:01:49.056991Z"
    },
    "papermill": {
     "duration": 0.351079,
     "end_time": "2024-05-01T23:01:49.061487",
     "exception": false,
     "start_time": "2024-05-01T23:01:48.710408",
     "status": "completed"
    },
    "tags": []
   },
   "outputs": [
    {
     "data": {
      "image/png": "[encoded data removed]",
      "text/plain": [
       "<Figure size 640x480 with 1 Axes>"
      ]
     },
     "metadata": {},
     "output_type": "display_data"
    }
   ],
   "source": [
    "pivot_df = df_train.pivot_table(index='Destination',columns='Transported',aggfunc='size',fill_value=0)\n",
    "#grouped plot\n",
    "x=np.arange(len(pivot_df.index))\n",
    "bar_width = 0.2\n",
    "plt.bar(x-bar_width/2,pivot_df[True],width=bar_width,label='True')\n",
    "plt.bar(x+bar_width/2,pivot_df[False],width=bar_width,label='False')\n",
    "plt.xlabel('Destination')\n",
    "plt.ylabel('Count')\n",
    "plt.title('Grouped Bar Chart')\n",
    "plt.xticks(x,pivot_df.index)\n",
    "\n",
    "for i,val in enumerate(pivot_df[True]):\n",
    "    plt.text(i- bar_width/2 , val+1, str(val), ha='center', va='bottom')\n",
    "for i,val in enumerate(pivot_df[False]):\n",
    "    plt.text(i+ bar_width/2 , val+1, str(val), ha='center', va='bottom')\n",
    "    \n",
    "plt.legend()\n",
    "plt.show()"
   ]
  },
  {
   "cell_type": "code",
   "execution_count": 17,
   "id": "9c02d378",
   "metadata": {
    "execution": {
     "iopub.execute_input": "2024-05-01T23:01:49.099650Z",
     "iopub.status.busy": "2024-05-01T23:01:49.099194Z",
     "iopub.status.idle": "2024-05-01T23:01:49.419201Z",
     "shell.execute_reply": "2024-05-01T23:01:49.417582Z"
    },
    "papermill": {
     "duration": 0.342038,
     "end_time": "2024-05-01T23:01:49.422115",
     "exception": false,
     "start_time": "2024-05-01T23:01:49.080077",
     "status": "completed"
    },
    "tags": []
   },
   "outputs": [
    {
     "data": {
      "image/png": "[encoded data removed]",
      "text/plain": [
       "<Figure size 640x480 with 1 Axes>"
      ]
     },
     "metadata": {},
     "output_type": "display_data"
    }
   ],
   "source": [
    "pivot_df = df_train.pivot_table(index='HomePlanet',columns='Transported',aggfunc='size',fill_value=0)\n",
    "#grouped plot\n",
    "x=np.arange(len(pivot_df.index))\n",
    "bar_width = 0.2\n",
    "plt.bar(x-bar_width/2,pivot_df[True],width=bar_width,label='True')\n",
    "plt.bar(x+bar_width/2,pivot_df[False],width=bar_width,label='False')\n",
    "plt.xlabel('HomePlanet')\n",
    "plt.ylabel('Count')\n",
    "plt.title('Grouped Bar Chart')\n",
    "plt.xticks(x,pivot_df.index)\n",
    "\n",
    "for i,val in enumerate(pivot_df[True]):\n",
    "    plt.text(i- bar_width/2 , val+1, str(val), ha='center', va='bottom')\n",
    "for i,val in enumerate(pivot_df[False]):\n",
    "    plt.text(i+ bar_width/2 , val+1, str(val), ha='center', va='bottom')\n",
    "    \n",
    "plt.legend()\n",
    "plt.show()"
   ]
  },
  {
   "cell_type": "code",
   "execution_count": 18,
   "id": "91bc459a",
   "metadata": {
    "execution": {
     "iopub.execute_input": "2024-05-01T23:01:49.463497Z",
     "iopub.status.busy": "2024-05-01T23:01:49.463045Z",
     "iopub.status.idle": "2024-05-01T23:01:49.474790Z",
     "shell.execute_reply": "2024-05-01T23:01:49.472577Z"
    },
    "papermill": {
     "duration": 0.036561,
     "end_time": "2024-05-01T23:01:49.478010",
     "exception": false,
     "start_time": "2024-05-01T23:01:49.441449",
     "status": "completed"
    },
    "tags": []
   },
   "outputs": [
    {
     "data": {
      "text/plain": [
       "array([39.        , 24.        , 58.        , 33.        , 16.        ,\n",
       "       44.        , 26.        , 35.        , 14.        , 45.        ,\n",
       "       32.        , 48.        , 28.        ,  0.        ,  1.        ,\n",
       "       49.        , 10.        ,  7.        , 21.        , 15.        ,\n",
       "       34.        , 43.        , 47.        ,  2.        , 23.        ,\n",
       "       20.        , 17.        , 55.        ,  4.        , 56.        ,\n",
       "       28.89739799, 25.        , 38.        , 27.        , 36.        ,\n",
       "       22.        , 62.        , 18.        , 42.        , 19.        ,\n",
       "       37.        , 13.        ,  8.        , 40.        ,  3.        ,\n",
       "       54.        ,  9.        ,  6.        , 31.        , 29.        ,\n",
       "       64.        , 67.        , 61.        , 50.        , 11.        ,\n",
       "       51.        , 41.        , 30.        , 46.        , 60.        ,\n",
       "       63.        , 57.        ,  5.        , 79.        , 68.        ,\n",
       "       59.        , 74.        , 12.        , 65.        , 53.        ,\n",
       "       71.        , 52.        , 75.        , 76.        , 78.        ,\n",
       "       70.        , 73.        , 66.        , 69.        , 72.        ,\n",
       "       77.        ])"
      ]
     },
     "execution_count": 18,
     "metadata": {},
     "output_type": "execute_result"
    }
   ],
   "source": [
    "df_train['Age'].unique()"
   ]
  },
  {
   "cell_type": "code",
   "execution_count": 19,
   "id": "e69e079e",
   "metadata": {
    "execution": {
     "iopub.execute_input": "2024-05-01T23:01:49.519370Z",
     "iopub.status.busy": "2024-05-01T23:01:49.518672Z",
     "iopub.status.idle": "2024-05-01T23:01:50.949032Z",
     "shell.execute_reply": "2024-05-01T23:01:50.947861Z"
    },
    "papermill": {
     "duration": 1.45425,
     "end_time": "2024-05-01T23:01:50.951934",
     "exception": false,
     "start_time": "2024-05-01T23:01:49.497684",
     "status": "completed"
    },
    "tags": []
   },
   "outputs": [
    {
     "data": {
      "image/png": "[encoded data removed]",
      "text/plain": [
       "<Figure size 640x480 with 1 Axes>"
      ]
     },
     "metadata": {},
     "output_type": "display_data"
    }
   ],
   "source": [
    "pivot_df = df_train.pivot_table(index='Age',columns='Transported',aggfunc='size',fill_value=0)\n",
    "#grouped plot\n",
    "x=np.arange(len(pivot_df.index))\n",
    "bar_width = 0.2\n",
    "plt.bar(x-bar_width/2,pivot_df[True],width=bar_width,label='True')\n",
    "plt.bar(x+bar_width/2,pivot_df[False],width=bar_width,label='False')\n",
    "plt.xlabel('Age')\n",
    "plt.ylabel('Count')\n",
    "plt.title('Grouped Bar Chart')\n",
    "plt.xticks(x,pivot_df.index)\n",
    "\n",
    "for i,val in enumerate(pivot_df[True]):\n",
    "    plt.text(i- bar_width/2 , val+1, str(val), ha='center', va='bottom')\n",
    "for i,val in enumerate(pivot_df[False]):\n",
    "    plt.text(i+ bar_width/2 , val+1, str(val), ha='center', va='bottom')\n",
    "    \n",
    "plt.legend()\n",
    "plt.show()"
   ]
  },
  {
   "cell_type": "code",
   "execution_count": 20,
   "id": "06f7aec2",
   "metadata": {
    "execution": {
     "iopub.execute_input": "2024-05-01T23:01:50.994346Z",
     "iopub.status.busy": "2024-05-01T23:01:50.993573Z",
     "iopub.status.idle": "2024-05-01T23:01:51.005704Z",
     "shell.execute_reply": "2024-05-01T23:01:51.004631Z"
    },
    "papermill": {
     "duration": 0.035757,
     "end_time": "2024-05-01T23:01:51.008163",
     "exception": false,
     "start_time": "2024-05-01T23:01:50.972406",
     "status": "completed"
    },
    "tags": []
   },
   "outputs": [
    {
     "name": "stdout",
     "output_type": "stream",
     "text": [
      "PassengerId     0\n",
      "HomePlanet      0\n",
      "CryoSleep       0\n",
      "Cabin           0\n",
      "Destination     0\n",
      "Age             0\n",
      "VIP             0\n",
      "RoomService     0\n",
      "FoodCourt       0\n",
      "ShoppingMall    0\n",
      "Spa             0\n",
      "VRDeck          0\n",
      "Transported     0\n",
      "dtype: int64\n"
     ]
    }
   ],
   "source": [
    "print(df_train.isna().sum())"
   ]
  },
  {
   "cell_type": "code",
   "execution_count": 21,
   "id": "8f599de7",
   "metadata": {
    "execution": {
     "iopub.execute_input": "2024-05-01T23:01:51.050983Z",
     "iopub.status.busy": "2024-05-01T23:01:51.049981Z",
     "iopub.status.idle": "2024-05-01T23:01:51.055244Z",
     "shell.execute_reply": "2024-05-01T23:01:51.054228Z"
    },
    "papermill": {
     "duration": 0.02978,
     "end_time": "2024-05-01T23:01:51.057656",
     "exception": false,
     "start_time": "2024-05-01T23:01:51.027876",
     "status": "completed"
    },
    "tags": []
   },
   "outputs": [],
   "source": [
    "from sklearn.model_selection import train_test_split\n",
    "from sklearn.svm import SVC\n",
    "from sklearn.metrics import accuracy_score"
   ]
  },
  {
   "cell_type": "code",
   "execution_count": 22,
   "id": "2a94926f",
   "metadata": {
    "execution": {
     "iopub.execute_input": "2024-05-01T23:01:51.100235Z",
     "iopub.status.busy": "2024-05-01T23:01:51.099539Z",
     "iopub.status.idle": "2024-05-01T23:01:51.151115Z",
     "shell.execute_reply": "2024-05-01T23:01:51.150070Z"
    },
    "papermill": {
     "duration": 0.075901,
     "end_time": "2024-05-01T23:01:51.153945",
     "exception": false,
     "start_time": "2024-05-01T23:01:51.078044",
     "status": "completed"
    },
    "tags": []
   },
   "outputs": [],
   "source": [
    "col1=['HomePlanet','CryoSleep','Cabin','Destination','Destination','VIP']\n",
    "col2 = ['Age','RoomService','FoodCourt','ShoppingMall','Spa','VRDeck']\n",
    "for col in col2:\n",
    "    df_test[col]=df_test[col].astype(float)\n",
    "    df_train[col]=df_train[col].astype(float)\n",
    "from sklearn.preprocessing import LabelEncoder    \n",
    "label = LabelEncoder()\n",
    "for col in col1:\n",
    "    df_train[col] = label.fit_transform(df_train[col])\n",
    "    df_test[col] = label.fit_transform(df_test[col])\n",
    "\n",
    "    "
   ]
  },
  {
   "cell_type": "code",
   "execution_count": 23,
   "id": "8918af57",
   "metadata": {
    "execution": {
     "iopub.execute_input": "2024-05-01T23:01:51.198884Z",
     "iopub.status.busy": "2024-05-01T23:01:51.198497Z",
     "iopub.status.idle": "2024-05-01T23:01:51.224329Z",
     "shell.execute_reply": "2024-05-01T23:01:51.223155Z"
    },
    "papermill": {
     "duration": 0.051711,
     "end_time": "2024-05-01T23:01:51.227358",
     "exception": false,
     "start_time": "2024-05-01T23:01:51.175647",
     "status": "completed"
    },
    "tags": []
   },
   "outputs": [
    {
     "data": {
      "text/html": [
       "<div>\n",
       "<style scoped>\n",
       "    .dataframe tbody tr th:only-of-type {\n",
       "        vertical-align: middle;\n",
       "    }\n",
       "\n",
       "    .dataframe tbody tr th {\n",
       "        vertical-align: top;\n",
       "    }\n",
       "\n",
       "    .dataframe thead th {\n",
       "        text-align: right;\n",
       "    }\n",
       "</style>\n",
       "<table border=\"1\" class=\"dataframe\">\n",
       "  <thead>\n",
       "    <tr style=\"text-align: right;\">\n",
       "      <th></th>\n",
       "      <th>PassengerId</th>\n",
       "      <th>HomePlanet</th>\n",
       "      <th>CryoSleep</th>\n",
       "      <th>Cabin</th>\n",
       "      <th>Destination</th>\n",
       "      <th>Age</th>\n",
       "      <th>VIP</th>\n",
       "      <th>RoomService</th>\n",
       "      <th>FoodCourt</th>\n",
       "      <th>ShoppingMall</th>\n",
       "      <th>Spa</th>\n",
       "      <th>VRDeck</th>\n",
       "    </tr>\n",
       "  </thead>\n",
       "  <tbody>\n",
       "    <tr>\n",
       "      <th>0</th>\n",
       "      <td>0013_01</td>\n",
       "      <td>0</td>\n",
       "      <td>1</td>\n",
       "      <td>2367</td>\n",
       "      <td>2</td>\n",
       "      <td>27.000000</td>\n",
       "      <td>0</td>\n",
       "      <td>0.0</td>\n",
       "      <td>0.0</td>\n",
       "      <td>0.0</td>\n",
       "      <td>0.0</td>\n",
       "      <td>0.0</td>\n",
       "    </tr>\n",
       "    <tr>\n",
       "      <th>1</th>\n",
       "      <td>0018_01</td>\n",
       "      <td>0</td>\n",
       "      <td>0</td>\n",
       "      <td>1600</td>\n",
       "      <td>2</td>\n",
       "      <td>19.000000</td>\n",
       "      <td>0</td>\n",
       "      <td>0.0</td>\n",
       "      <td>9.0</td>\n",
       "      <td>0.0</td>\n",
       "      <td>2823.0</td>\n",
       "      <td>0.0</td>\n",
       "    </tr>\n",
       "    <tr>\n",
       "      <th>2</th>\n",
       "      <td>0019_01</td>\n",
       "      <td>1</td>\n",
       "      <td>1</td>\n",
       "      <td>229</td>\n",
       "      <td>0</td>\n",
       "      <td>31.000000</td>\n",
       "      <td>0</td>\n",
       "      <td>0.0</td>\n",
       "      <td>0.0</td>\n",
       "      <td>0.0</td>\n",
       "      <td>0.0</td>\n",
       "      <td>0.0</td>\n",
       "    </tr>\n",
       "    <tr>\n",
       "      <th>3</th>\n",
       "      <td>0021_01</td>\n",
       "      <td>1</td>\n",
       "      <td>0</td>\n",
       "      <td>231</td>\n",
       "      <td>2</td>\n",
       "      <td>38.000000</td>\n",
       "      <td>0</td>\n",
       "      <td>0.0</td>\n",
       "      <td>6652.0</td>\n",
       "      <td>0.0</td>\n",
       "      <td>181.0</td>\n",
       "      <td>585.0</td>\n",
       "    </tr>\n",
       "    <tr>\n",
       "      <th>4</th>\n",
       "      <td>0023_01</td>\n",
       "      <td>0</td>\n",
       "      <td>0</td>\n",
       "      <td>1662</td>\n",
       "      <td>2</td>\n",
       "      <td>20.000000</td>\n",
       "      <td>0</td>\n",
       "      <td>10.0</td>\n",
       "      <td>0.0</td>\n",
       "      <td>635.0</td>\n",
       "      <td>0.0</td>\n",
       "      <td>0.0</td>\n",
       "    </tr>\n",
       "    <tr>\n",
       "      <th>...</th>\n",
       "      <td>...</td>\n",
       "      <td>...</td>\n",
       "      <td>...</td>\n",
       "      <td>...</td>\n",
       "      <td>...</td>\n",
       "      <td>...</td>\n",
       "      <td>...</td>\n",
       "      <td>...</td>\n",
       "      <td>...</td>\n",
       "      <td>...</td>\n",
       "      <td>...</td>\n",
       "      <td>...</td>\n",
       "    </tr>\n",
       "    <tr>\n",
       "      <th>4270</th>\n",
       "      <td>9265_01</td>\n",
       "      <td>2</td>\n",
       "      <td>0</td>\n",
       "      <td>527</td>\n",
       "      <td>2</td>\n",
       "      <td>43.000000</td>\n",
       "      <td>0</td>\n",
       "      <td>47.0</td>\n",
       "      <td>0.0</td>\n",
       "      <td>3851.0</td>\n",
       "      <td>0.0</td>\n",
       "      <td>0.0</td>\n",
       "    </tr>\n",
       "    <tr>\n",
       "      <th>4271</th>\n",
       "      <td>9266_01</td>\n",
       "      <td>0</td>\n",
       "      <td>0</td>\n",
       "      <td>1420</td>\n",
       "      <td>2</td>\n",
       "      <td>40.000000</td>\n",
       "      <td>0</td>\n",
       "      <td>0.0</td>\n",
       "      <td>865.0</td>\n",
       "      <td>0.0</td>\n",
       "      <td>3.0</td>\n",
       "      <td>0.0</td>\n",
       "    </tr>\n",
       "    <tr>\n",
       "      <th>4272</th>\n",
       "      <td>9266_02</td>\n",
       "      <td>0</td>\n",
       "      <td>1</td>\n",
       "      <td>2280</td>\n",
       "      <td>2</td>\n",
       "      <td>34.000000</td>\n",
       "      <td>0</td>\n",
       "      <td>0.0</td>\n",
       "      <td>0.0</td>\n",
       "      <td>0.0</td>\n",
       "      <td>0.0</td>\n",
       "      <td>0.0</td>\n",
       "    </tr>\n",
       "    <tr>\n",
       "      <th>4274</th>\n",
       "      <td>9271_01</td>\n",
       "      <td>2</td>\n",
       "      <td>1</td>\n",
       "      <td>535</td>\n",
       "      <td>0</td>\n",
       "      <td>28.596423</td>\n",
       "      <td>0</td>\n",
       "      <td>0.0</td>\n",
       "      <td>0.0</td>\n",
       "      <td>0.0</td>\n",
       "      <td>0.0</td>\n",
       "      <td>0.0</td>\n",
       "    </tr>\n",
       "    <tr>\n",
       "      <th>4276</th>\n",
       "      <td>9277_01</td>\n",
       "      <td>0</td>\n",
       "      <td>1</td>\n",
       "      <td>2281</td>\n",
       "      <td>1</td>\n",
       "      <td>43.000000</td>\n",
       "      <td>0</td>\n",
       "      <td>0.0</td>\n",
       "      <td>0.0</td>\n",
       "      <td>0.0</td>\n",
       "      <td>0.0</td>\n",
       "      <td>0.0</td>\n",
       "    </tr>\n",
       "  </tbody>\n",
       "</table>\n",
       "<p>3424 rows × 12 columns</p>\n",
       "</div>"
      ],
      "text/plain": [
       "     PassengerId  HomePlanet  CryoSleep  Cabin  Destination        Age  VIP  \\\n",
       "0        0013_01           0          1   2367            2  27.000000    0   \n",
       "1        0018_01           0          0   1600            2  19.000000    0   \n",
       "2        0019_01           1          1    229            0  31.000000    0   \n",
       "3        0021_01           1          0    231            2  38.000000    0   \n",
       "4        0023_01           0          0   1662            2  20.000000    0   \n",
       "...          ...         ...        ...    ...          ...        ...  ...   \n",
       "4270     9265_01           2          0    527            2  43.000000    0   \n",
       "4271     9266_01           0          0   1420            2  40.000000    0   \n",
       "4272     9266_02           0          1   2280            2  34.000000    0   \n",
       "4274     9271_01           2          1    535            0  28.596423    0   \n",
       "4276     9277_01           0          1   2281            1  43.000000    0   \n",
       "\n",
       "      RoomService  FoodCourt  ShoppingMall     Spa  VRDeck  \n",
       "0             0.0        0.0           0.0     0.0     0.0  \n",
       "1             0.0        9.0           0.0  2823.0     0.0  \n",
       "2             0.0        0.0           0.0     0.0     0.0  \n",
       "3             0.0     6652.0           0.0   181.0   585.0  \n",
       "4            10.0        0.0         635.0     0.0     0.0  \n",
       "...           ...        ...           ...     ...     ...  \n",
       "4270         47.0        0.0        3851.0     0.0     0.0  \n",
       "4271          0.0      865.0           0.0     3.0     0.0  \n",
       "4272          0.0        0.0           0.0     0.0     0.0  \n",
       "4274          0.0        0.0           0.0     0.0     0.0  \n",
       "4276          0.0        0.0           0.0     0.0     0.0  \n",
       "\n",
       "[3424 rows x 12 columns]"
      ]
     },
     "execution_count": 23,
     "metadata": {},
     "output_type": "execute_result"
    }
   ],
   "source": [
    "df_test"
   ]
  },
  {
   "cell_type": "code",
   "execution_count": 24,
   "id": "8d61d25b",
   "metadata": {
    "execution": {
     "iopub.execute_input": "2024-05-01T23:01:51.269741Z",
     "iopub.status.busy": "2024-05-01T23:01:51.268443Z",
     "iopub.status.idle": "2024-05-01T23:01:51.275701Z",
     "shell.execute_reply": "2024-05-01T23:01:51.274752Z"
    },
    "papermill": {
     "duration": 0.031001,
     "end_time": "2024-05-01T23:01:51.278124",
     "exception": false,
     "start_time": "2024-05-01T23:01:51.247123",
     "status": "completed"
    },
    "tags": []
   },
   "outputs": [],
   "source": [
    "X= df_train.drop(columns=['Transported'],axis=1)\n",
    "y=df_train['Transported']"
   ]
  },
  {
   "cell_type": "code",
   "execution_count": 25,
   "id": "29dd0197",
   "metadata": {
    "execution": {
     "iopub.execute_input": "2024-05-01T23:01:51.319961Z",
     "iopub.status.busy": "2024-05-01T23:01:51.318750Z",
     "iopub.status.idle": "2024-05-01T23:01:51.330708Z",
     "shell.execute_reply": "2024-05-01T23:01:51.329504Z"
    },
    "papermill": {
     "duration": 0.035682,
     "end_time": "2024-05-01T23:01:51.333552",
     "exception": false,
     "start_time": "2024-05-01T23:01:51.297870",
     "status": "completed"
    },
    "tags": []
   },
   "outputs": [],
   "source": [
    "X_train,X_test,y_train,y_test = train_test_split(X,y,test_size=0.2,random_state=42)"
   ]
  },
  {
   "cell_type": "code",
   "execution_count": 26,
   "id": "c52b69b4",
   "metadata": {
    "execution": {
     "iopub.execute_input": "2024-05-01T23:01:51.441513Z",
     "iopub.status.busy": "2024-05-01T23:01:51.440640Z",
     "iopub.status.idle": "2024-05-01T23:01:51.449895Z",
     "shell.execute_reply": "2024-05-01T23:01:51.448752Z"
    },
    "papermill": {
     "duration": 0.035053,
     "end_time": "2024-05-01T23:01:51.453233",
     "exception": false,
     "start_time": "2024-05-01T23:01:51.418180",
     "status": "completed"
    },
    "tags": []
   },
   "outputs": [
    {
     "data": {
      "text/plain": [
       "PassengerId      object\n",
       "HomePlanet        int64\n",
       "CryoSleep         int64\n",
       "Cabin             int64\n",
       "Destination       int64\n",
       "Age             float64\n",
       "VIP               int64\n",
       "RoomService     float64\n",
       "FoodCourt       float64\n",
       "ShoppingMall    float64\n",
       "Spa             float64\n",
       "VRDeck          float64\n",
       "dtype: object"
      ]
     },
     "execution_count": 26,
     "metadata": {},
     "output_type": "execute_result"
    }
   ],
   "source": [
    "X.dtypes"
   ]
  },
  {
   "cell_type": "code",
   "execution_count": 27,
   "id": "5432651a",
   "metadata": {
    "execution": {
     "iopub.execute_input": "2024-05-01T23:01:51.498612Z",
     "iopub.status.busy": "2024-05-01T23:01:51.497753Z",
     "iopub.status.idle": "2024-05-01T23:01:51.505240Z",
     "shell.execute_reply": "2024-05-01T23:01:51.504052Z"
    },
    "papermill": {
     "duration": 0.032566,
     "end_time": "2024-05-01T23:01:51.507700",
     "exception": false,
     "start_time": "2024-05-01T23:01:51.475134",
     "status": "completed"
    },
    "tags": []
   },
   "outputs": [
    {
     "data": {
      "text/plain": [
       "dtype('bool')"
      ]
     },
     "execution_count": 27,
     "metadata": {},
     "output_type": "execute_result"
    }
   ],
   "source": [
    "y.dtypes"
   ]
  },
  {
   "cell_type": "code",
   "execution_count": 28,
   "id": "c25ae962",
   "metadata": {
    "execution": {
     "iopub.execute_input": "2024-05-01T23:01:51.550243Z",
     "iopub.status.busy": "2024-05-01T23:01:51.549855Z",
     "iopub.status.idle": "2024-05-01T23:01:53.298999Z",
     "shell.execute_reply": "2024-05-01T23:01:53.297389Z"
    },
    "papermill": {
     "duration": 1.774694,
     "end_time": "2024-05-01T23:01:53.302523",
     "exception": false,
     "start_time": "2024-05-01T23:01:51.527829",
     "status": "completed"
    },
    "tags": []
   },
   "outputs": [
    {
     "data": {
      "text/html": [
       "<style>#sk-container-id-1 {color: black;background-color: white;}#sk-container-id-1 pre{padding: 0;}#sk-container-id-1 div.sk-toggleable {background-color: white;}#sk-container-id-1 label.sk-toggleable__label {cursor: pointer;display: block;width: 100%;margin-bottom: 0;padding: 0.3em;box-sizing: border-box;text-align: center;}#sk-container-id-1 label.sk-toggleable__label-arrow:before {content: \"▸\";float: left;margin-right: 0.25em;color: #696969;}#sk-container-id-1 label.sk-toggleable__label-arrow:hover:before {color: black;}#sk-container-id-1 div.sk-estimator:hover label.sk-toggleable__label-arrow:before {color: black;}#sk-container-id-1 div.sk-toggleable__content {max-height: 0;max-width: 0;overflow: hidden;text-align: left;background-color: #f0f8ff;}#sk-container-id-1 div.sk-toggleable__content pre {margin: 0.2em;color: black;border-radius: 0.25em;background-color: #f0f8ff;}#sk-container-id-1 input.sk-toggleable__control:checked~div.sk-toggleable__content {max-height: 200px;max-width: 100%;overflow: auto;}#sk-container-id-1 input.sk-toggleable__control:checked~label.sk-toggleable__label-arrow:before {content: \"▾\";}#sk-container-id-1 div.sk-estimator input.sk-toggleable__control:checked~label.sk-toggleable__label {background-color: #d4ebff;}#sk-container-id-1 div.sk-label input.sk-toggleable__control:checked~label.sk-toggleable__label {background-color: #d4ebff;}#sk-container-id-1 input.sk-hidden--visually {border: 0;clip: rect(1px 1px 1px 1px);clip: rect(1px, 1px, 1px, 1px);height: 1px;margin: -1px;overflow: hidden;padding: 0;position: absolute;width: 1px;}#sk-container-id-1 div.sk-estimator {font-family: monospace;background-color: #f0f8ff;border: 1px dotted black;border-radius: 0.25em;box-sizing: border-box;margin-bottom: 0.5em;}#sk-container-id-1 div.sk-estimator:hover {background-color: #d4ebff;}#sk-container-id-1 div.sk-parallel-item::after {content: \"\";width: 100%;border-bottom: 1px solid gray;flex-grow: 1;}#sk-container-id-1 div.sk-label:hover label.sk-toggleable__label {background-color: #d4ebff;}#sk-container-id-1 div.sk-serial::before {content: \"\";position: absolute;border-left: 1px solid gray;box-sizing: border-box;top: 0;bottom: 0;left: 50%;z-index: 0;}#sk-container-id-1 div.sk-serial {display: flex;flex-direction: column;align-items: center;background-color: white;padding-right: 0.2em;padding-left: 0.2em;position: relative;}#sk-container-id-1 div.sk-item {position: relative;z-index: 1;}#sk-container-id-1 div.sk-parallel {display: flex;align-items: stretch;justify-content: center;background-color: white;position: relative;}#sk-container-id-1 div.sk-item::before, #sk-container-id-1 div.sk-parallel-item::before {content: \"\";position: absolute;border-left: 1px solid gray;box-sizing: border-box;top: 0;bottom: 0;left: 50%;z-index: -1;}#sk-container-id-1 div.sk-parallel-item {display: flex;flex-direction: column;z-index: 1;position: relative;background-color: white;}#sk-container-id-1 div.sk-parallel-item:first-child::after {align-self: flex-end;width: 50%;}#sk-container-id-1 div.sk-parallel-item:last-child::after {align-self: flex-start;width: 50%;}#sk-container-id-1 div.sk-parallel-item:only-child::after {width: 0;}#sk-container-id-1 div.sk-dashed-wrapped {border: 1px dashed gray;margin: 0 0.4em 0.5em 0.4em;box-sizing: border-box;padding-bottom: 0.4em;background-color: white;}#sk-container-id-1 div.sk-label label {font-family: monospace;font-weight: bold;display: inline-block;line-height: 1.2em;}#sk-container-id-1 div.sk-label-container {text-align: center;}#sk-container-id-1 div.sk-container {/* jupyter's `normalize.less` sets `[hidden] { display: none; }` but bootstrap.min.css set `[hidden] { display: none !important; }` so we also need the `!important` here to be able to override the default hidden behavior on the sphinx rendered scikit-learn.org. See: https://github.com/scikit-learn/scikit-learn/issues/21755 */display: inline-block !important;position: relative;}#sk-container-id-1 div.sk-text-repr-fallback {display: none;}</style><div id=\"sk-container-id-1\" class=\"sk-top-container\"><div class=\"sk-text-repr-fallback\"><pre>SVC()</pre><b>In a Jupyter environment, please rerun this cell to show the HTML representation or trust the notebook. <br />On GitHub, the HTML representation is unable to render, please try loading this page with nbviewer.org.</b></div><div class=\"sk-container\" hidden><div class=\"sk-item\"><div class=\"sk-estimator sk-toggleable\"><input class=\"sk-toggleable__control sk-hidden--visually\" id=\"sk-estimator-id-1\" type=\"checkbox\" checked><label for=\"sk-estimator-id-1\" class=\"sk-toggleable__label sk-toggleable__label-arrow\">SVC</label><div class=\"sk-toggleable__content\"><pre>SVC()</pre></div></div></div></div></div>"
      ],
      "text/plain": [
       "SVC()"
      ]
     },
     "execution_count": 28,
     "metadata": {},
     "output_type": "execute_result"
    }
   ],
   "source": [
    "svm_clf = SVC(kernel='rbf')\n",
    "svm_clf.fit(X_train,y_train)"
   ]
  },
  {
   "cell_type": "code",
   "execution_count": 29,
   "id": "3421bab0",
   "metadata": {
    "execution": {
     "iopub.execute_input": "2024-05-01T23:01:53.348142Z",
     "iopub.status.busy": "2024-05-01T23:01:53.347732Z",
     "iopub.status.idle": "2024-05-01T23:01:53.796541Z",
     "shell.execute_reply": "2024-05-01T23:01:53.795137Z"
    },
    "papermill": {
     "duration": 0.47495,
     "end_time": "2024-05-01T23:01:53.799585",
     "exception": false,
     "start_time": "2024-05-01T23:01:53.324635",
     "status": "completed"
    },
    "tags": []
   },
   "outputs": [],
   "source": [
    "y_pred = svm_clf.predict(X_test)"
   ]
  },
  {
   "cell_type": "code",
   "execution_count": 30,
   "id": "8f3e8c8e",
   "metadata": {
    "execution": {
     "iopub.execute_input": "2024-05-01T23:01:53.844808Z",
     "iopub.status.busy": "2024-05-01T23:01:53.844373Z",
     "iopub.status.idle": "2024-05-01T23:01:53.852344Z",
     "shell.execute_reply": "2024-05-01T23:01:53.851396Z"
    },
    "papermill": {
     "duration": 0.033862,
     "end_time": "2024-05-01T23:01:53.854723",
     "exception": false,
     "start_time": "2024-05-01T23:01:53.820861",
     "status": "completed"
    },
    "tags": []
   },
   "outputs": [
    {
     "name": "stdout",
     "output_type": "stream",
     "text": [
      "0.5527456647398844\n"
     ]
    }
   ],
   "source": [
    "acc = accuracy_score(y_test,y_pred)\n",
    "print(acc)"
   ]
  },
  {
   "cell_type": "code",
   "execution_count": 31,
   "id": "8ebf0bd4",
   "metadata": {
    "execution": {
     "iopub.execute_input": "2024-05-01T23:01:53.899541Z",
     "iopub.status.busy": "2024-05-01T23:01:53.898800Z",
     "iopub.status.idle": "2024-05-01T23:01:53.905564Z",
     "shell.execute_reply": "2024-05-01T23:01:53.904441Z"
    },
    "papermill": {
     "duration": 0.032115,
     "end_time": "2024-05-01T23:01:53.907994",
     "exception": false,
     "start_time": "2024-05-01T23:01:53.875879",
     "status": "completed"
    },
    "tags": []
   },
   "outputs": [
    {
     "data": {
      "text/plain": [
       "array([False,  True,  True, ..., False,  True, False])"
      ]
     },
     "execution_count": 31,
     "metadata": {},
     "output_type": "execute_result"
    }
   ],
   "source": [
    "y_pred"
   ]
  },
  {
   "cell_type": "code",
   "execution_count": 32,
   "id": "6df99bd2",
   "metadata": {
    "execution": {
     "iopub.execute_input": "2024-05-01T23:01:53.952609Z",
     "iopub.status.busy": "2024-05-01T23:01:53.951908Z",
     "iopub.status.idle": "2024-05-01T23:01:55.056264Z",
     "shell.execute_reply": "2024-05-01T23:01:55.055046Z"
    },
    "papermill": {
     "duration": 1.130036,
     "end_time": "2024-05-01T23:01:55.059407",
     "exception": false,
     "start_time": "2024-05-01T23:01:53.929371",
     "status": "completed"
    },
    "tags": []
   },
   "outputs": [],
   "source": [
    "prediction = svm_clf.predict(df_test)"
   ]
  },
  {
   "cell_type": "code",
   "execution_count": 33,
   "id": "7246ed8b",
   "metadata": {
    "execution": {
     "iopub.execute_input": "2024-05-01T23:01:55.105052Z",
     "iopub.status.busy": "2024-05-01T23:01:55.104361Z",
     "iopub.status.idle": "2024-05-01T23:01:55.116642Z",
     "shell.execute_reply": "2024-05-01T23:01:55.115390Z"
    },
    "papermill": {
     "duration": 0.037969,
     "end_time": "2024-05-01T23:01:55.119114",
     "exception": false,
     "start_time": "2024-05-01T23:01:55.081145",
     "status": "completed"
    },
    "tags": []
   },
   "outputs": [
    {
     "data": {
      "text/html": [
       "<div>\n",
       "<style scoped>\n",
       "    .dataframe tbody tr th:only-of-type {\n",
       "        vertical-align: middle;\n",
       "    }\n",
       "\n",
       "    .dataframe tbody tr th {\n",
       "        vertical-align: top;\n",
       "    }\n",
       "\n",
       "    .dataframe thead th {\n",
       "        text-align: right;\n",
       "    }\n",
       "</style>\n",
       "<table border=\"1\" class=\"dataframe\">\n",
       "  <thead>\n",
       "    <tr style=\"text-align: right;\">\n",
       "      <th></th>\n",
       "      <th>Transported</th>\n",
       "    </tr>\n",
       "  </thead>\n",
       "  <tbody>\n",
       "    <tr>\n",
       "      <th>0</th>\n",
       "      <td>False</td>\n",
       "    </tr>\n",
       "    <tr>\n",
       "      <th>1</th>\n",
       "      <td>False</td>\n",
       "    </tr>\n",
       "    <tr>\n",
       "      <th>2</th>\n",
       "      <td>False</td>\n",
       "    </tr>\n",
       "    <tr>\n",
       "      <th>3</th>\n",
       "      <td>False</td>\n",
       "    </tr>\n",
       "    <tr>\n",
       "      <th>4</th>\n",
       "      <td>False</td>\n",
       "    </tr>\n",
       "    <tr>\n",
       "      <th>...</th>\n",
       "      <td>...</td>\n",
       "    </tr>\n",
       "    <tr>\n",
       "      <th>3419</th>\n",
       "      <td>False</td>\n",
       "    </tr>\n",
       "    <tr>\n",
       "      <th>3420</th>\n",
       "      <td>False</td>\n",
       "    </tr>\n",
       "    <tr>\n",
       "      <th>3421</th>\n",
       "      <td>False</td>\n",
       "    </tr>\n",
       "    <tr>\n",
       "      <th>3422</th>\n",
       "      <td>False</td>\n",
       "    </tr>\n",
       "    <tr>\n",
       "      <th>3423</th>\n",
       "      <td>False</td>\n",
       "    </tr>\n",
       "  </tbody>\n",
       "</table>\n",
       "<p>3424 rows × 1 columns</p>\n",
       "</div>"
      ],
      "text/plain": [
       "      Transported\n",
       "0           False\n",
       "1           False\n",
       "2           False\n",
       "3           False\n",
       "4           False\n",
       "...           ...\n",
       "3419        False\n",
       "3420        False\n",
       "3421        False\n",
       "3422        False\n",
       "3423        False\n",
       "\n",
       "[3424 rows x 1 columns]"
      ]
     },
     "execution_count": 33,
     "metadata": {},
     "output_type": "execute_result"
    }
   ],
   "source": [
    "predictions = pd.DataFrame(prediction, columns=['Transported'])\n",
    "predictions"
   ]
  },
  {
   "cell_type": "code",
   "execution_count": 34,
   "id": "48416b7e",
   "metadata": {
    "execution": {
     "iopub.execute_input": "2024-05-01T23:01:55.164052Z",
     "iopub.status.busy": "2024-05-01T23:01:55.163402Z",
     "iopub.status.idle": "2024-05-01T23:01:55.181242Z",
     "shell.execute_reply": "2024-05-01T23:01:55.179791Z"
    },
    "papermill": {
     "duration": 0.04356,
     "end_time": "2024-05-01T23:01:55.183950",
     "exception": false,
     "start_time": "2024-05-01T23:01:55.140390",
     "status": "completed"
    },
    "tags": []
   },
   "outputs": [
    {
     "data": {
      "text/html": [
       "<div>\n",
       "<style scoped>\n",
       "    .dataframe tbody tr th:only-of-type {\n",
       "        vertical-align: middle;\n",
       "    }\n",
       "\n",
       "    .dataframe tbody tr th {\n",
       "        vertical-align: top;\n",
       "    }\n",
       "\n",
       "    .dataframe thead th {\n",
       "        text-align: right;\n",
       "    }\n",
       "</style>\n",
       "<table border=\"1\" class=\"dataframe\">\n",
       "  <thead>\n",
       "    <tr style=\"text-align: right;\">\n",
       "      <th></th>\n",
       "      <th>PassengerId</th>\n",
       "      <th>Transported</th>\n",
       "    </tr>\n",
       "  </thead>\n",
       "  <tbody>\n",
       "    <tr>\n",
       "      <th>0</th>\n",
       "      <td>0013_01</td>\n",
       "      <td>False</td>\n",
       "    </tr>\n",
       "    <tr>\n",
       "      <th>1</th>\n",
       "      <td>0018_01</td>\n",
       "      <td>False</td>\n",
       "    </tr>\n",
       "    <tr>\n",
       "      <th>2</th>\n",
       "      <td>0019_01</td>\n",
       "      <td>False</td>\n",
       "    </tr>\n",
       "    <tr>\n",
       "      <th>3</th>\n",
       "      <td>0021_01</td>\n",
       "      <td>False</td>\n",
       "    </tr>\n",
       "    <tr>\n",
       "      <th>4</th>\n",
       "      <td>0023_01</td>\n",
       "      <td>False</td>\n",
       "    </tr>\n",
       "    <tr>\n",
       "      <th>...</th>\n",
       "      <td>...</td>\n",
       "      <td>...</td>\n",
       "    </tr>\n",
       "    <tr>\n",
       "      <th>3419</th>\n",
       "      <td>9265_01</td>\n",
       "      <td>False</td>\n",
       "    </tr>\n",
       "    <tr>\n",
       "      <th>3420</th>\n",
       "      <td>9266_01</td>\n",
       "      <td>False</td>\n",
       "    </tr>\n",
       "    <tr>\n",
       "      <th>3421</th>\n",
       "      <td>9266_02</td>\n",
       "      <td>False</td>\n",
       "    </tr>\n",
       "    <tr>\n",
       "      <th>3422</th>\n",
       "      <td>9271_01</td>\n",
       "      <td>False</td>\n",
       "    </tr>\n",
       "    <tr>\n",
       "      <th>3423</th>\n",
       "      <td>9277_01</td>\n",
       "      <td>False</td>\n",
       "    </tr>\n",
       "  </tbody>\n",
       "</table>\n",
       "<p>3424 rows × 2 columns</p>\n",
       "</div>"
      ],
      "text/plain": [
       "     PassengerId  Transported\n",
       "0        0013_01        False\n",
       "1        0018_01        False\n",
       "2        0019_01        False\n",
       "3        0021_01        False\n",
       "4        0023_01        False\n",
       "...          ...          ...\n",
       "3419     9265_01        False\n",
       "3420     9266_01        False\n",
       "3421     9266_02        False\n",
       "3422     9271_01        False\n",
       "3423     9277_01        False\n",
       "\n",
       "[3424 rows x 2 columns]"
      ]
     },
     "execution_count": 34,
     "metadata": {},
     "output_type": "execute_result"
    }
   ],
   "source": [
    "p = pd.DataFrame(df_test['PassengerId'], columns=['PassengerId'])\n",
    "p.reset_index(drop=True,inplace=True)\n",
    "predictions.reset_index(drop=True,inplace=True)\n",
    "submission = pd.concat([p,predictions],axis=1)\n",
    "submission"
   ]
  },
  {
   "cell_type": "code",
   "execution_count": 35,
   "id": "e82ccdfa",
   "metadata": {
    "execution": {
     "iopub.execute_input": "2024-05-01T23:01:55.230186Z",
     "iopub.status.busy": "2024-05-01T23:01:55.229751Z",
     "iopub.status.idle": "2024-05-01T23:01:55.243866Z",
     "shell.execute_reply": "2024-05-01T23:01:55.242270Z"
    },
    "papermill": {
     "duration": 0.040299,
     "end_time": "2024-05-01T23:01:55.246881",
     "exception": false,
     "start_time": "2024-05-01T23:01:55.206582",
     "status": "completed"
    },
    "tags": []
   },
   "outputs": [],
   "source": [
    "submission.to_csv(\"svm.csv\",index=False)"
   ]
  },
  {
   "cell_type": "code",
   "execution_count": null,
   "id": "d5797723",
   "metadata": {
    "papermill": {
     "duration": 0.020899,
     "end_time": "2024-05-01T23:01:55.289736",
     "exception": false,
     "start_time": "2024-05-01T23:01:55.268837",
     "status": "completed"
    },
    "tags": []
   },
   "outputs": [],
   "source": []
  },
  {
   "cell_type": "code",
   "execution_count": null,
   "id": "1e810374",
   "metadata": {
    "papermill": {
     "duration": 0.021208,
     "end_time": "2024-05-01T23:01:55.332213",
     "exception": false,
     "start_time": "2024-05-01T23:01:55.311005",
     "status": "completed"
    },
    "tags": []
   },
   "outputs": [],
   "source": []
  },
  {
   "cell_type": "code",
   "execution_count": null,
   "id": "5e183e0d",
   "metadata": {
    "papermill": {
     "duration": 0.021567,
     "end_time": "2024-05-01T23:01:55.375745",
     "exception": false,
     "start_time": "2024-05-01T23:01:55.354178",
     "status": "completed"
    },
    "tags": []
   },
   "outputs": [],
   "source": []
  },
  {
   "cell_type": "code",
   "execution_count": null,
   "id": "c924f551",
   "metadata": {
    "papermill": {
     "duration": 0.0224,
     "end_time": "2024-05-01T23:01:55.419978",
     "exception": false,
     "start_time": "2024-05-01T23:01:55.397578",
     "status": "completed"
    },
    "tags": []
   },
   "outputs": [],
   "source": []
  },
  {
   "cell_type": "code",
   "execution_count": null,
   "id": "b462cd18",
   "metadata": {
    "papermill": {
     "duration": 0.021298,
     "end_time": "2024-05-01T23:01:55.462760",
     "exception": false,
     "start_time": "2024-05-01T23:01:55.441462",
     "status": "completed"
    },
    "tags": []
   },
   "outputs": [],
   "source": []
  },
  {
   "cell_type": "code",
   "execution_count": null,
   "id": "e538b2df",
   "metadata": {
    "papermill": {
     "duration": 0.021962,
     "end_time": "2024-05-01T23:01:55.506238",
     "exception": false,
     "start_time": "2024-05-01T23:01:55.484276",
     "status": "completed"
    },
    "tags": []
   },
   "outputs": [],
   "source": []
  },
  {
   "cell_type": "code",
   "execution_count": null,
   "id": "acde51d5",
   "metadata": {
    "papermill": {
     "duration": 0.022364,
     "end_time": "2024-05-01T23:01:55.551246",
     "exception": false,
     "start_time": "2024-05-01T23:01:55.528882",
     "status": "completed"
    },
    "tags": []
   },
   "outputs": [],
   "source": []
  },
  {
   "cell_type": "code",
   "execution_count": null,
   "id": "68aad192",
   "metadata": {
    "papermill": {
     "duration": 0.021065,
     "end_time": "2024-05-01T23:01:55.593798",
     "exception": false,
     "start_time": "2024-05-01T23:01:55.572733",
     "status": "completed"
    },
    "tags": []
   },
   "outputs": [],
   "source": []
  }
 ],
 "metadata": {
  "kaggle": {
   "accelerator": "none",
   "dataSources": [
    {
     "databundleVersionId": 3220602,
     "sourceId": 34377,
     "sourceType": "competition"
    }
   ],
   "dockerImageVersionId": 30698,
   "isGpuEnabled": false,
   "isInternetEnabled": true,
   "language": "python",
   "sourceType": "notebook"
  },
  "kernelspec": {
   "display_name": "Python 3",
   "language": "python",
   "name": "python3"
  },
  "language_info": {
   "codemirror_mode": {
    "name": "ipython",
    "version": 3
   },
   "file_extension": ".py",
   "mimetype": "text/x-python",
   "name": "python",
   "nbconvert_exporter": "python",
   "pygments_lexer": "ipython3",
   "version": "3.10.13"
  },
  "papermill": {
   "default_parameters": {},
   "duration": 16.060989,
   "end_time": "2024-05-01T23:01:56.338088",
   "environment_variables": {},
   "exception": null,
   "input_path": "__notebook__.ipynb",
   "output_path": "__notebook__.ipynb",
   "parameters": {},
   "start_time": "2024-05-01T23:01:40.277099",
   "version": "2.5.0"
  }
 },
 "nbformat": 4,
 "nbformat_minor": 5
}
